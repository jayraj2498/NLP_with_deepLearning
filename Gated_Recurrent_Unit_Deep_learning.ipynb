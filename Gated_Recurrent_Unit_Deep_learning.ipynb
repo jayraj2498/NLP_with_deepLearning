{
  "nbformat": 4,
  "nbformat_minor": 0,
  "metadata": {
    "colab": {
      "provenance": []
    },
    "kernelspec": {
      "name": "python3",
      "display_name": "Python 3"
    },
    "language_info": {
      "name": "python"
    }
  },
  "cells": [
    {
      "cell_type": "code",
      "execution_count": null,
      "metadata": {
        "id": "BAyzY3oHOVMO"
      },
      "outputs": [],
      "source": [
        "import numpy as np\n",
        "import tensorflow"
      ]
    },
    {
      "cell_type": "code",
      "source": [
        "imdb = tensorflow.keras.datasets.imdb"
      ],
      "metadata": {
        "id": "iPNuWAhLOueC"
      },
      "execution_count": null,
      "outputs": []
    },
    {
      "cell_type": "code",
      "source": [
        "(x_train,y_train),(x_test,y_test) = imdb.load_data(num_words = 10000)"
      ],
      "metadata": {
        "id": "GRBFg2viOzNb"
      },
      "execution_count": null,
      "outputs": []
    },
    {
      "cell_type": "code",
      "source": [
        "set(y_test)"
      ],
      "metadata": {
        "id": "5a1t3iYQZOAS",
        "outputId": "b3657a5b-86b2-47f2-a2e4-134232e5d008",
        "colab": {
          "base_uri": "https://localhost:8080/"
        }
      },
      "execution_count": null,
      "outputs": [
        {
          "output_type": "execute_result",
          "data": {
            "text/plain": [
              "{0, 1}"
            ]
          },
          "metadata": {},
          "execution_count": 27
        }
      ]
    },
    {
      "cell_type": "code",
      "source": [
        "x_train[:1]"
      ],
      "metadata": {
        "colab": {
          "base_uri": "https://localhost:8080/"
        },
        "id": "8NmWhSuYPOn_",
        "outputId": "10e92e07-359b-44cd-981a-2494b68a5dc1"
      },
      "execution_count": null,
      "outputs": [
        {
          "output_type": "execute_result",
          "data": {
            "text/plain": [
              "array([list([1, 14, 22, 16, 43, 530, 973, 1622, 1385, 65, 458, 4468, 66, 3941, 4, 173, 36, 256, 5, 25, 100, 43, 838, 112, 50, 670, 2, 9, 35, 480, 284, 5, 150, 4, 172, 112, 167, 2, 336, 385, 39, 4, 172, 4536, 1111, 17, 546, 38, 13, 447, 4, 192, 50, 16, 6, 147, 2025, 19, 14, 22, 4, 1920, 4613, 469, 4, 22, 71, 87, 12, 16, 43, 530, 38, 76, 15, 13, 1247, 4, 22, 17, 515, 17, 12, 16, 626, 18, 2, 5, 62, 386, 12, 8, 316, 8, 106, 5, 4, 2223, 5244, 16, 480, 66, 3785, 33, 4, 130, 12, 16, 38, 619, 5, 25, 124, 51, 36, 135, 48, 25, 1415, 33, 6, 22, 12, 215, 28, 77, 52, 5, 14, 407, 16, 82, 2, 8, 4, 107, 117, 5952, 15, 256, 4, 2, 7, 3766, 5, 723, 36, 71, 43, 530, 476, 26, 400, 317, 46, 7, 4, 2, 1029, 13, 104, 88, 4, 381, 15, 297, 98, 32, 2071, 56, 26, 141, 6, 194, 7486, 18, 4, 226, 22, 21, 134, 476, 26, 480, 5, 144, 30, 5535, 18, 51, 36, 28, 224, 92, 25, 104, 4, 226, 65, 16, 38, 1334, 88, 12, 16, 283, 5, 16, 4472, 113, 103, 32, 15, 16, 5345, 19, 178, 32])],\n",
              "      dtype=object)"
            ]
          },
          "metadata": {},
          "execution_count": 4
        }
      ]
    },
    {
      "cell_type": "code",
      "source": [
        "len(x_train[:1][0])"
      ],
      "metadata": {
        "colab": {
          "base_uri": "https://localhost:8080/"
        },
        "id": "y6_6qg5hSUqh",
        "outputId": "ab8fd3ff-daf8-4c74-e282-820fddbe0564"
      },
      "execution_count": null,
      "outputs": [
        {
          "output_type": "execute_result",
          "data": {
            "text/plain": [
              "218"
            ]
          },
          "metadata": {},
          "execution_count": 5
        }
      ]
    },
    {
      "cell_type": "code",
      "source": [
        "np.zeros(6)"
      ],
      "metadata": {
        "colab": {
          "base_uri": "https://localhost:8080/"
        },
        "id": "VpkUrSdwUbHH",
        "outputId": "1946a381-09ea-498a-e514-3f37c21160e7"
      },
      "execution_count": null,
      "outputs": [
        {
          "output_type": "execute_result",
          "data": {
            "text/plain": [
              "array([0., 0., 0., 0., 0., 0.])"
            ]
          },
          "metadata": {},
          "execution_count": 6
        }
      ]
    },
    {
      "cell_type": "code",
      "source": [],
      "metadata": {
        "id": "bFQOnpM1U6W3"
      },
      "execution_count": null,
      "outputs": []
    },
    {
      "cell_type": "code",
      "source": [
        "def vectorizer(sequence, max_length = 10000):\n",
        "  results = np.zeros((len(sequence), max_length))\n",
        "  for i, seq in enumerate(sequence):\n",
        "    results[i,seq] = 1\n",
        "  return results\n"
      ],
      "metadata": {
        "id": "TJHpnkdmPU2U"
      },
      "execution_count": null,
      "outputs": []
    },
    {
      "cell_type": "code",
      "source": [
        "lst = [11,22,33,44,55,55]\n",
        "for i, ele in enumerate(lst):\n",
        "  print(i,ele)\n",
        "  "
      ],
      "metadata": {
        "colab": {
          "base_uri": "https://localhost:8080/"
        },
        "id": "DV2OKEt5RMp6",
        "outputId": "2b16a6dc-c867-4c62-87a2-d9c253fa2d1f"
      },
      "execution_count": null,
      "outputs": [
        {
          "output_type": "stream",
          "name": "stdout",
          "text": [
            "0 11\n",
            "1 22\n",
            "2 33\n",
            "3 44\n",
            "4 55\n",
            "5 55\n"
          ]
        }
      ]
    },
    {
      "cell_type": "code",
      "source": [
        "x_train_new = vectorizer(x_train)"
      ],
      "metadata": {
        "id": "0dM95rkqRYHu"
      },
      "execution_count": null,
      "outputs": []
    },
    {
      "cell_type": "code",
      "source": [
        "x_train_new[:1][0]"
      ],
      "metadata": {
        "colab": {
          "base_uri": "https://localhost:8080/"
        },
        "id": "-ZVRToG2SxRS",
        "outputId": "aa9c2e73-2d3c-450e-e274-f57a36e69c0d"
      },
      "execution_count": null,
      "outputs": [
        {
          "output_type": "execute_result",
          "data": {
            "text/plain": [
              "array([0., 1., 1., ..., 0., 0., 0.])"
            ]
          },
          "metadata": {},
          "execution_count": 10
        }
      ]
    },
    {
      "cell_type": "code",
      "source": [
        "len(x_train_new[:1][0])"
      ],
      "metadata": {
        "colab": {
          "base_uri": "https://localhost:8080/"
        },
        "id": "z6EMc_loTB7f",
        "outputId": "4a7c9806-f6b5-4d72-df59-4d94c7acc240"
      },
      "execution_count": null,
      "outputs": [
        {
          "output_type": "execute_result",
          "data": {
            "text/plain": [
              "10000"
            ]
          },
          "metadata": {},
          "execution_count": 11
        }
      ]
    },
    {
      "cell_type": "code",
      "source": [
        "len(x_train_new[:2][0])"
      ],
      "metadata": {
        "colab": {
          "base_uri": "https://localhost:8080/"
        },
        "id": "guAfqlxJTMYB",
        "outputId": "8cd87bef-9877-47aa-9fc1-484e884477f8"
      },
      "execution_count": null,
      "outputs": [
        {
          "output_type": "execute_result",
          "data": {
            "text/plain": [
              "10000"
            ]
          },
          "metadata": {},
          "execution_count": 12
        }
      ]
    },
    {
      "cell_type": "code",
      "source": [
        "len(x_train_new[:3][0])"
      ],
      "metadata": {
        "colab": {
          "base_uri": "https://localhost:8080/"
        },
        "id": "DJASFzTTTPgz",
        "outputId": "e06097c8-5be1-46d3-8ddd-eb68e59ebc8a"
      },
      "execution_count": null,
      "outputs": [
        {
          "output_type": "execute_result",
          "data": {
            "text/plain": [
              "10000"
            ]
          },
          "metadata": {},
          "execution_count": 13
        }
      ]
    },
    {
      "cell_type": "code",
      "source": [
        "x_test_new = vectorizer(x_test)"
      ],
      "metadata": {
        "id": "EEouGZO3TRmj"
      },
      "execution_count": null,
      "outputs": []
    },
    {
      "cell_type": "code",
      "source": [
        "x_train_new.shape"
      ],
      "metadata": {
        "colab": {
          "base_uri": "https://localhost:8080/"
        },
        "id": "B5xn3gi3TeYT",
        "outputId": "a732da72-9e54-4bcc-d3c1-d3bc338b63c9"
      },
      "execution_count": null,
      "outputs": [
        {
          "output_type": "execute_result",
          "data": {
            "text/plain": [
              "(25000, 10000)"
            ]
          },
          "metadata": {},
          "execution_count": 15
        }
      ]
    },
    {
      "cell_type": "code",
      "source": [
        "x_train_new = np.expand_dims(x_train_new, axis = 1)"
      ],
      "metadata": {
        "id": "M4sO60Q9Tm7Q"
      },
      "execution_count": null,
      "outputs": []
    },
    {
      "cell_type": "code",
      "source": [
        "x_train_new.shape"
      ],
      "metadata": {
        "colab": {
          "base_uri": "https://localhost:8080/"
        },
        "id": "RMgcqI7KTzXb",
        "outputId": "f1018d75-9956-464d-b7e5-d3b96a7790c2"
      },
      "execution_count": null,
      "outputs": [
        {
          "output_type": "execute_result",
          "data": {
            "text/plain": [
              "(25000, 1, 10000)"
            ]
          },
          "metadata": {},
          "execution_count": 17
        }
      ]
    },
    {
      "cell_type": "code",
      "source": [
        "x_test_new = np.expand_dims(x_test_new, axis = 1)"
      ],
      "metadata": {
        "id": "ZbMzyqixT1Ji"
      },
      "execution_count": null,
      "outputs": []
    },
    {
      "cell_type": "code",
      "source": [
        "x_test_new.shape"
      ],
      "metadata": {
        "colab": {
          "base_uri": "https://localhost:8080/"
        },
        "id": "S5LQ9sAcT5Sj",
        "outputId": "a7d14c96-bcf4-49cc-c537-0e6debe0803a"
      },
      "execution_count": null,
      "outputs": [
        {
          "output_type": "execute_result",
          "data": {
            "text/plain": [
              "(25000, 1, 10000)"
            ]
          },
          "metadata": {},
          "execution_count": 19
        }
      ]
    },
    {
      "cell_type": "code",
      "source": [
        "from tensorflow.keras.models import Sequential\n",
        "model = Sequential()"
      ],
      "metadata": {
        "id": "MUKlIVjfT6l-"
      },
      "execution_count": null,
      "outputs": []
    },
    {
      "cell_type": "code",
      "source": [
        "from tensorflow.keras.layers import GRU,Dense\n"
      ],
      "metadata": {
        "id": "sUNUsFt6VQDx"
      },
      "execution_count": null,
      "outputs": []
    },
    {
      "cell_type": "code",
      "source": [
        "model.add(GRU(32,return_sequences=True))\n",
        "model.add(GRU(32))"
      ],
      "metadata": {
        "id": "WMIa8oFcVVzJ"
      },
      "execution_count": null,
      "outputs": []
    },
    {
      "cell_type": "code",
      "source": [
        "model.add(Dense(1, activation='sigmoid'))"
      ],
      "metadata": {
        "id": "Rg7OZWskVkvM"
      },
      "execution_count": null,
      "outputs": []
    },
    {
      "cell_type": "code",
      "source": [
        "model.compile(loss = 'binary_crossentropy', optimizer = 'adam', metrics = ['accuracy'])"
      ],
      "metadata": {
        "id": "tofGd_L9VyGv"
      },
      "execution_count": null,
      "outputs": []
    },
    {
      "cell_type": "code",
      "source": [
        "history = model.fit(x_train_new,y_train, validation_data=(x_test_new, y_test), epochs = 10)"
      ],
      "metadata": {
        "colab": {
          "base_uri": "https://localhost:8080/"
        },
        "id": "lT73FXOaV_qS",
        "outputId": "ccaaab26-317e-4696-9cca-7ed0e312c4c3"
      },
      "execution_count": null,
      "outputs": [
        {
          "output_type": "stream",
          "name": "stdout",
          "text": [
            "Epoch 1/10\n",
            "782/782 [==============================] - 28s 29ms/step - loss: 0.3114 - accuracy: 0.8710 - val_loss: 0.2893 - val_accuracy: 0.8788\n",
            "Epoch 2/10\n",
            "782/782 [==============================] - 21s 27ms/step - loss: 0.1790 - accuracy: 0.9306 - val_loss: 0.3239 - val_accuracy: 0.8724\n",
            "Epoch 3/10\n",
            "782/782 [==============================] - 23s 29ms/step - loss: 0.1198 - accuracy: 0.9537 - val_loss: 0.3847 - val_accuracy: 0.8657\n",
            "Epoch 4/10\n",
            "782/782 [==============================] - 23s 29ms/step - loss: 0.0699 - accuracy: 0.9738 - val_loss: 0.5305 - val_accuracy: 0.8636\n",
            "Epoch 5/10\n",
            "782/782 [==============================] - 21s 27ms/step - loss: 0.0357 - accuracy: 0.9870 - val_loss: 0.6579 - val_accuracy: 0.8607\n",
            "Epoch 6/10\n",
            "782/782 [==============================] - 22s 28ms/step - loss: 0.0200 - accuracy: 0.9933 - val_loss: 0.7554 - val_accuracy: 0.8585\n",
            "Epoch 7/10\n",
            "782/782 [==============================] - 24s 31ms/step - loss: 0.0124 - accuracy: 0.9958 - val_loss: 0.8486 - val_accuracy: 0.8577\n",
            "Epoch 8/10\n",
            "782/782 [==============================] - 22s 28ms/step - loss: 0.0100 - accuracy: 0.9967 - val_loss: 0.9048 - val_accuracy: 0.8595\n",
            "Epoch 9/10\n",
            "782/782 [==============================] - 23s 30ms/step - loss: 0.0099 - accuracy: 0.9968 - val_loss: 0.8822 - val_accuracy: 0.8560\n",
            "Epoch 10/10\n",
            "782/782 [==============================] - 25s 32ms/step - loss: 0.0074 - accuracy: 0.9974 - val_loss: 0.9119 - val_accuracy: 0.8590\n"
          ]
        }
      ]
    },
    {
      "cell_type": "code",
      "source": [
        "import matplotlib.pyplot as plt\n",
        "plt.plot(history.history['loss'],c='b')\n",
        "plt.plot(history.history['val_loss'],c='r')"
      ],
      "metadata": {
        "colab": {
          "base_uri": "https://localhost:8080/",
          "height": 282
        },
        "id": "CnNScalBWQ90",
        "outputId": "bfdaf19d-7a58-47d9-b6b9-f41435f270ac"
      },
      "execution_count": null,
      "outputs": [
        {
          "output_type": "execute_result",
          "data": {
            "text/plain": [
              "[<matplotlib.lines.Line2D at 0x7ff0bb816f40>]"
            ]
          },
          "metadata": {},
          "execution_count": 26
        },
        {
          "output_type": "display_data",
          "data": {
            "text/plain": [
              "<Figure size 432x288 with 1 Axes>"
            ],
            "image/png": "[encoded data removed]"
          },
          "metadata": {
            "needs_background": "light"
          }
        }
      ]
    },
    {
      "cell_type": "code",
      "source": [],
      "metadata": {
        "id": "jD_rTq2TYA4s"
      },
      "execution_count": null,
      "outputs": []
    }
  ]
}