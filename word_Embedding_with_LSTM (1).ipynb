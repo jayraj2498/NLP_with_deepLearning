{
  "nbformat": 4,
  "nbformat_minor": 0,
  "metadata": {
    "colab": {
      "provenance": [],
      "gpuType": "T4"
    },
    "kernelspec": {
      "name": "python3",
      "display_name": "Python 3"
    },
    "language_info": {
      "name": "python"
    },
    "accelerator": "GPU"
  },
  "cells": [
    {
      "cell_type": "code",
      "execution_count": 4,
      "metadata": {
        "colab": {
          "base_uri": "https://localhost:8080/"
        },
        "id": "_S2H2VsrR9et",
        "outputId": "98b5ca6e-02bc-4deb-ad7f-9e6698724af9"
      },
      "outputs": [
        {
          "output_type": "stream",
          "name": "stdout",
          "text": [
            "Requirement already satisfied: pip in /usr/local/lib/python3.10/dist-packages (23.1.2)\n",
            "Collecting pip\n",
            "  Downloading pip-23.3.2-py3-none-any.whl (2.1 MB)\n",
            "\u001b[2K     \u001b[90m━━━━━━━━━━━━━━━━━━━━━━━━━━━━━━━━━━━━━━━━\u001b[0m \u001b[32m2.1/2.1 MB\u001b[0m \u001b[31m33.8 MB/s\u001b[0m eta \u001b[36m0:00:00\u001b[0m\n",
            "\u001b[?25hInstalling collected packages: pip\n",
            "  Attempting uninstall: pip\n",
            "    Found existing installation: pip 23.1.2\n",
            "    Uninstalling pip-23.1.2:\n",
            "      Successfully uninstalled pip-23.1.2\n",
            "Successfully installed pip-23.3.2\n"
          ]
        }
      ],
      "source": [
        "pip install --upgrade pip\n"
      ]
    },
    {
      "cell_type": "code",
      "source": [
        "import tensorflow as tf\n",
        "print(tf.__version__)"
      ],
      "metadata": {
        "colab": {
          "base_uri": "https://localhost:8080/"
        },
        "id": "FveFiuiBSDgw",
        "outputId": "79497b1f-4029-4a67-cebb-c81885024ae6"
      },
      "execution_count": 5,
      "outputs": [
        {
          "output_type": "stream",
          "name": "stdout",
          "text": [
            "2.15.0\n"
          ]
        }
      ]
    },
    {
      "cell_type": "markdown",
      "source": [
        "# word embeding"
      ],
      "metadata": {
        "id": "ambssoOtTJLE"
      }
    },
    {
      "cell_type": "code",
      "source": [
        "from tensorflow.keras.preprocessing.text import one_hot"
      ],
      "metadata": {
        "id": "qjP-hR5JSDeb"
      },
      "execution_count": 7,
      "outputs": []
    },
    {
      "cell_type": "code",
      "source": [
        "### sentences\n",
        "sent=[  'the glass of milk',\n",
        "     'the glass of juice',\n",
        "     'the cup of tea',\n",
        "    'I am a good boy',\n",
        "     'I am a good developer',\n",
        "     'understand the meaning of words',\n",
        "     'your videos are good']"
      ],
      "metadata": {
        "id": "E5hTFMC0SDad"
      },
      "execution_count": 31,
      "outputs": []
    },
    {
      "cell_type": "code",
      "source": [],
      "metadata": {
        "id": "P3pV-3V5SDYS"
      },
      "execution_count": null,
      "outputs": []
    },
    {
      "cell_type": "markdown",
      "source": [
        "## select vocabulary size for sentence"
      ],
      "metadata": {
        "id": "dVy6AyF5WcwX"
      }
    },
    {
      "cell_type": "code",
      "source": [
        "### Vocabulary size\n",
        "voc_size=1000"
      ],
      "metadata": {
        "id": "EU-IKHaWSDVx"
      },
      "execution_count": 32,
      "outputs": []
    },
    {
      "cell_type": "code",
      "source": [
        "onehot_repr = [one_hot(words, voc_size) for words in sent]"
      ],
      "metadata": {
        "id": "Zxj8itR9WlgT"
      },
      "execution_count": 33,
      "outputs": []
    },
    {
      "cell_type": "code",
      "source": [
        "onehot_repr"
      ],
      "metadata": {
        "colab": {
          "base_uri": "https://localhost:8080/"
        },
        "id": "ftNdO8iKWld4",
        "outputId": "4a9eda0a-7a14-4ba8-aa8a-841a94c9bbe2"
      },
      "execution_count": 34,
      "outputs": [
        {
          "output_type": "execute_result",
          "data": {
            "text/plain": [
              "[[63, 55, 585, 472],\n",
              " [63, 55, 585, 266],\n",
              " [63, 833, 585, 373],\n",
              " [29, 504, 328, 250, 631],\n",
              " [29, 504, 328, 250, 197],\n",
              " [134, 63, 157, 585, 662],\n",
              " [450, 492, 284, 250]]"
            ]
          },
          "metadata": {},
          "execution_count": 34
        }
      ]
    },
    {
      "cell_type": "code",
      "source": [],
      "metadata": {
        "id": "2Gv9mwHZWlba"
      },
      "execution_count": null,
      "outputs": []
    },
    {
      "cell_type": "markdown",
      "source": [
        "## word embeddign representation"
      ],
      "metadata": {
        "id": "Di0uoOc3X_Pd"
      }
    },
    {
      "cell_type": "code",
      "source": [
        "from tensorflow.keras.layers import Embedding\n",
        "from tensorflow.keras.preprocessing.sequence  import pad_sequences\n",
        "from tensorflow.keras.models import Sequential\n",
        "import pandas as pd"
      ],
      "metadata": {
        "id": "OoXh7NiyWlYo"
      },
      "execution_count": 35,
      "outputs": []
    },
    {
      "cell_type": "markdown",
      "source": [
        "### padding"
      ],
      "metadata": {
        "id": "e1XEv6VzZEll"
      }
    },
    {
      "cell_type": "code",
      "source": [
        "## pre padding   , define max length of padding\n",
        "\n",
        "sent_length=10"
      ],
      "metadata": {
        "id": "_babm58sZbLq"
      },
      "execution_count": 36,
      "outputs": []
    },
    {
      "cell_type": "code",
      "source": [
        "embedded_docs = pad_sequences(onehot_repr , padding='pre' , maxlen=sent_length )"
      ],
      "metadata": {
        "id": "ql1R8orySDTc"
      },
      "execution_count": 37,
      "outputs": []
    },
    {
      "cell_type": "code",
      "source": [
        "embedded_docs"
      ],
      "metadata": {
        "colab": {
          "base_uri": "https://localhost:8080/"
        },
        "id": "fVw4cRlnSDRC",
        "outputId": "5b72f2f1-e016-4b7a-803c-d66dfb09b4b7"
      },
      "execution_count": 38,
      "outputs": [
        {
          "output_type": "execute_result",
          "data": {
            "text/plain": [
              "array([[  0,   0,   0,   0,   0,   0,  63,  55, 585, 472],\n",
              "       [  0,   0,   0,   0,   0,   0,  63,  55, 585, 266],\n",
              "       [  0,   0,   0,   0,   0,   0,  63, 833, 585, 373],\n",
              "       [  0,   0,   0,   0,   0,  29, 504, 328, 250, 631],\n",
              "       [  0,   0,   0,   0,   0,  29, 504, 328, 250, 197],\n",
              "       [  0,   0,   0,   0,   0, 134,  63, 157, 585, 662],\n",
              "       [  0,   0,   0,   0,   0,   0, 450, 492, 284, 250]], dtype=int32)"
            ]
          },
          "metadata": {},
          "execution_count": 38
        }
      ]
    },
    {
      "cell_type": "markdown",
      "source": [
        "### feature  dimentions"
      ],
      "metadata": {
        "id": "8Pd3bOn9Zv1z"
      }
    },
    {
      "cell_type": "code",
      "source": [
        "# now here we represent each abouve vector with number of n feature\n",
        "\n",
        "# here we select  12"
      ],
      "metadata": {
        "id": "vNg1zAXZZsmU"
      },
      "execution_count": 21,
      "outputs": []
    },
    {
      "cell_type": "code",
      "source": [
        "dim = 12                                                                  # <-- we are represening 12 feature of each word"
      ],
      "metadata": {
        "id": "CFOLxHTzZsju"
      },
      "execution_count": null,
      "outputs": []
    },
    {
      "cell_type": "code",
      "source": [],
      "metadata": {
        "id": "bh7IF8kVZshX"
      },
      "execution_count": null,
      "outputs": []
    },
    {
      "cell_type": "markdown",
      "source": [
        "### create the model"
      ],
      "metadata": {
        "id": "DLfFB-c6aqow"
      }
    },
    {
      "cell_type": "code",
      "source": [
        "model = Sequential()\n",
        "model.add(Embedding(voc_size , 12 , input_length = sent_length ))\n",
        "model.compile('adam' ,'mse')"
      ],
      "metadata": {
        "id": "osyBAmcYZsef"
      },
      "execution_count": 23,
      "outputs": []
    },
    {
      "cell_type": "code",
      "source": [
        "model.summary()"
      ],
      "metadata": {
        "colab": {
          "base_uri": "https://localhost:8080/"
        },
        "id": "6Epu9ZTbZsbt",
        "outputId": "fb84e477-a122-4100-bb91-dd0709bd1f27"
      },
      "execution_count": 24,
      "outputs": [
        {
          "output_type": "stream",
          "name": "stdout",
          "text": [
            "Model: \"sequential_1\"\n",
            "_________________________________________________________________\n",
            " Layer (type)                Output Shape              Param #   \n",
            "=================================================================\n",
            " embedding (Embedding)       (None, 10, 12)            12000     \n",
            "                                                                 \n",
            "=================================================================\n",
            "Total params: 12000 (46.88 KB)\n",
            "Trainable params: 12000 (46.88 KB)\n",
            "Non-trainable params: 0 (0.00 Byte)\n",
            "_________________________________________________________________\n"
          ]
        }
      ]
    },
    {
      "cell_type": "code",
      "source": [
        "##'the glass of milk',\n",
        "embedded_docs[1]"
      ],
      "metadata": {
        "colab": {
          "base_uri": "https://localhost:8080/"
        },
        "id": "DWaA9zyjZsW6",
        "outputId": "28acc554-aae6-403d-a864-c1b502a179b4"
      },
      "execution_count": 27,
      "outputs": [
        {
          "output_type": "execute_result",
          "data": {
            "text/plain": [
              "array([  0,   0,   0,   0,   0,   0,  63,  55, 585, 266], dtype=int32)"
            ]
          },
          "metadata": {},
          "execution_count": 27
        }
      ]
    },
    {
      "cell_type": "code",
      "source": [
        "model.predict(embedded_docs[1])     # here we have 10 word representation with each word have  12 dimention(feature)"
      ],
      "metadata": {
        "colab": {
          "base_uri": "https://localhost:8080/"
        },
        "id": "7H0YpdKuZsUN",
        "outputId": "b480d791-f095-4eca-d6a6-db9ba1209f9f"
      },
      "execution_count": 28,
      "outputs": [
        {
          "output_type": "stream",
          "name": "stdout",
          "text": [
            "1/1 [==============================] - 0s 117ms/step\n"
          ]
        },
        {
          "output_type": "execute_result",
          "data": {
            "text/plain": [
              "array([[ 0.02395791,  0.00284358,  0.04868624, -0.02238731, -0.00964348,\n",
              "        -0.0315155 , -0.04868368,  0.03720221,  0.02415097,  0.01978016,\n",
              "         0.02969548, -0.01086744],\n",
              "       [ 0.02395791,  0.00284358,  0.04868624, -0.02238731, -0.00964348,\n",
              "        -0.0315155 , -0.04868368,  0.03720221,  0.02415097,  0.01978016,\n",
              "         0.02969548, -0.01086744],\n",
              "       [ 0.02395791,  0.00284358,  0.04868624, -0.02238731, -0.00964348,\n",
              "        -0.0315155 , -0.04868368,  0.03720221,  0.02415097,  0.01978016,\n",
              "         0.02969548, -0.01086744],\n",
              "       [ 0.02395791,  0.00284358,  0.04868624, -0.02238731, -0.00964348,\n",
              "        -0.0315155 , -0.04868368,  0.03720221,  0.02415097,  0.01978016,\n",
              "         0.02969548, -0.01086744],\n",
              "       [ 0.02395791,  0.00284358,  0.04868624, -0.02238731, -0.00964348,\n",
              "        -0.0315155 , -0.04868368,  0.03720221,  0.02415097,  0.01978016,\n",
              "         0.02969548, -0.01086744],\n",
              "       [ 0.02395791,  0.00284358,  0.04868624, -0.02238731, -0.00964348,\n",
              "        -0.0315155 , -0.04868368,  0.03720221,  0.02415097,  0.01978016,\n",
              "         0.02969548, -0.01086744],\n",
              "       [-0.02780331,  0.03683993, -0.00940941,  0.00542865,  0.02094686,\n",
              "         0.01869703,  0.02904643, -0.03519057, -0.00246198, -0.01886902,\n",
              "         0.03362992,  0.04191473],\n",
              "       [-0.02433758, -0.0122403 ,  0.0034109 , -0.0073836 , -0.0220812 ,\n",
              "         0.02256688,  0.03074751,  0.0194767 , -0.04633081, -0.01358397,\n",
              "        -0.03642368, -0.02221651],\n",
              "       [-0.00113219, -0.03331989, -0.02724662,  0.01151019,  0.01868229,\n",
              "         0.0490816 ,  0.00705421,  0.04063631,  0.00600718,  0.03507927,\n",
              "         0.03428276,  0.04180357],\n",
              "       [ 0.04078341, -0.02894726, -0.00138878, -0.03389164,  0.01088803,\n",
              "        -0.04330471, -0.02596211,  0.04186345,  0.04246179,  0.03281384,\n",
              "         0.0016947 ,  0.04535452]], dtype=float32)"
            ]
          },
          "metadata": {},
          "execution_count": 28
        }
      ]
    },
    {
      "cell_type": "code",
      "source": [
        "print(model.predict(embedded_docs) )"
      ],
      "metadata": {
        "colab": {
          "base_uri": "https://localhost:8080/"
        },
        "id": "WKOPC44WZsRo",
        "outputId": "fb94a7e7-1b23-4577-9aca-9d1652d6718c"
      },
      "execution_count": 30,
      "outputs": [
        {
          "output_type": "stream",
          "name": "stdout",
          "text": [
            "1/1 [==============================] - 0s 18ms/step\n",
            "[[[ 0.02395791  0.00284358  0.04868624 -0.02238731 -0.00964348\n",
            "   -0.0315155  -0.04868368  0.03720221  0.02415097  0.01978016\n",
            "    0.02969548 -0.01086744]\n",
            "  [ 0.02395791  0.00284358  0.04868624 -0.02238731 -0.00964348\n",
            "   -0.0315155  -0.04868368  0.03720221  0.02415097  0.01978016\n",
            "    0.02969548 -0.01086744]\n",
            "  [ 0.02395791  0.00284358  0.04868624 -0.02238731 -0.00964348\n",
            "   -0.0315155  -0.04868368  0.03720221  0.02415097  0.01978016\n",
            "    0.02969548 -0.01086744]\n",
            "  [ 0.02395791  0.00284358  0.04868624 -0.02238731 -0.00964348\n",
            "   -0.0315155  -0.04868368  0.03720221  0.02415097  0.01978016\n",
            "    0.02969548 -0.01086744]\n",
            "  [ 0.02395791  0.00284358  0.04868624 -0.02238731 -0.00964348\n",
            "   -0.0315155  -0.04868368  0.03720221  0.02415097  0.01978016\n",
            "    0.02969548 -0.01086744]\n",
            "  [ 0.02395791  0.00284358  0.04868624 -0.02238731 -0.00964348\n",
            "   -0.0315155  -0.04868368  0.03720221  0.02415097  0.01978016\n",
            "    0.02969548 -0.01086744]\n",
            "  [-0.02780331  0.03683993 -0.00940941  0.00542865  0.02094686\n",
            "    0.01869703  0.02904643 -0.03519057 -0.00246198 -0.01886902\n",
            "    0.03362992  0.04191473]\n",
            "  [-0.02433758 -0.0122403   0.0034109  -0.0073836  -0.0220812\n",
            "    0.02256688  0.03074751  0.0194767  -0.04633081 -0.01358397\n",
            "   -0.03642368 -0.02221651]\n",
            "  [-0.00113219 -0.03331989 -0.02724662  0.01151019  0.01868229\n",
            "    0.0490816   0.00705421  0.04063631  0.00600718  0.03507927\n",
            "    0.03428276  0.04180357]\n",
            "  [ 0.043921   -0.03578933 -0.02920816 -0.03753265  0.02267537\n",
            "    0.03026271  0.02006063 -0.04712851  0.02127386  0.01865539\n",
            "   -0.02592212  0.03959627]]\n",
            "\n",
            " [[ 0.02395791  0.00284358  0.04868624 -0.02238731 -0.00964348\n",
            "   -0.0315155  -0.04868368  0.03720221  0.02415097  0.01978016\n",
            "    0.02969548 -0.01086744]\n",
            "  [ 0.02395791  0.00284358  0.04868624 -0.02238731 -0.00964348\n",
            "   -0.0315155  -0.04868368  0.03720221  0.02415097  0.01978016\n",
            "    0.02969548 -0.01086744]\n",
            "  [ 0.02395791  0.00284358  0.04868624 -0.02238731 -0.00964348\n",
            "   -0.0315155  -0.04868368  0.03720221  0.02415097  0.01978016\n",
            "    0.02969548 -0.01086744]\n",
            "  [ 0.02395791  0.00284358  0.04868624 -0.02238731 -0.00964348\n",
            "   -0.0315155  -0.04868368  0.03720221  0.02415097  0.01978016\n",
            "    0.02969548 -0.01086744]\n",
            "  [ 0.02395791  0.00284358  0.04868624 -0.02238731 -0.00964348\n",
            "   -0.0315155  -0.04868368  0.03720221  0.02415097  0.01978016\n",
            "    0.02969548 -0.01086744]\n",
            "  [ 0.02395791  0.00284358  0.04868624 -0.02238731 -0.00964348\n",
            "   -0.0315155  -0.04868368  0.03720221  0.02415097  0.01978016\n",
            "    0.02969548 -0.01086744]\n",
            "  [-0.02780331  0.03683993 -0.00940941  0.00542865  0.02094686\n",
            "    0.01869703  0.02904643 -0.03519057 -0.00246198 -0.01886902\n",
            "    0.03362992  0.04191473]\n",
            "  [-0.02433758 -0.0122403   0.0034109  -0.0073836  -0.0220812\n",
            "    0.02256688  0.03074751  0.0194767  -0.04633081 -0.01358397\n",
            "   -0.03642368 -0.02221651]\n",
            "  [-0.00113219 -0.03331989 -0.02724662  0.01151019  0.01868229\n",
            "    0.0490816   0.00705421  0.04063631  0.00600718  0.03507927\n",
            "    0.03428276  0.04180357]\n",
            "  [ 0.04078341 -0.02894726 -0.00138878 -0.03389164  0.01088803\n",
            "   -0.04330471 -0.02596211  0.04186345  0.04246179  0.03281384\n",
            "    0.0016947   0.04535452]]\n",
            "\n",
            " [[ 0.02395791  0.00284358  0.04868624 -0.02238731 -0.00964348\n",
            "   -0.0315155  -0.04868368  0.03720221  0.02415097  0.01978016\n",
            "    0.02969548 -0.01086744]\n",
            "  [ 0.02395791  0.00284358  0.04868624 -0.02238731 -0.00964348\n",
            "   -0.0315155  -0.04868368  0.03720221  0.02415097  0.01978016\n",
            "    0.02969548 -0.01086744]\n",
            "  [ 0.02395791  0.00284358  0.04868624 -0.02238731 -0.00964348\n",
            "   -0.0315155  -0.04868368  0.03720221  0.02415097  0.01978016\n",
            "    0.02969548 -0.01086744]\n",
            "  [ 0.02395791  0.00284358  0.04868624 -0.02238731 -0.00964348\n",
            "   -0.0315155  -0.04868368  0.03720221  0.02415097  0.01978016\n",
            "    0.02969548 -0.01086744]\n",
            "  [ 0.02395791  0.00284358  0.04868624 -0.02238731 -0.00964348\n",
            "   -0.0315155  -0.04868368  0.03720221  0.02415097  0.01978016\n",
            "    0.02969548 -0.01086744]\n",
            "  [ 0.02395791  0.00284358  0.04868624 -0.02238731 -0.00964348\n",
            "   -0.0315155  -0.04868368  0.03720221  0.02415097  0.01978016\n",
            "    0.02969548 -0.01086744]\n",
            "  [-0.02780331  0.03683993 -0.00940941  0.00542865  0.02094686\n",
            "    0.01869703  0.02904643 -0.03519057 -0.00246198 -0.01886902\n",
            "    0.03362992  0.04191473]\n",
            "  [-0.02862529 -0.0158505   0.00726401  0.0306476   0.0249402\n",
            "    0.02060292  0.00816753  0.01292336 -0.01585872  0.04307058\n",
            "    0.04367033  0.0046776 ]\n",
            "  [-0.00113219 -0.03331989 -0.02724662  0.01151019  0.01868229\n",
            "    0.0490816   0.00705421  0.04063631  0.00600718  0.03507927\n",
            "    0.03428276  0.04180357]\n",
            "  [-0.00138636 -0.03995031  0.00698193 -0.00580985 -0.01949387\n",
            "    0.01575805  0.03835392 -0.01300155  0.02415161 -0.00402589\n",
            "    0.02789343  0.04718599]]\n",
            "\n",
            " [[ 0.02395791  0.00284358  0.04868624 -0.02238731 -0.00964348\n",
            "   -0.0315155  -0.04868368  0.03720221  0.02415097  0.01978016\n",
            "    0.02969548 -0.01086744]\n",
            "  [ 0.02395791  0.00284358  0.04868624 -0.02238731 -0.00964348\n",
            "   -0.0315155  -0.04868368  0.03720221  0.02415097  0.01978016\n",
            "    0.02969548 -0.01086744]\n",
            "  [ 0.02395791  0.00284358  0.04868624 -0.02238731 -0.00964348\n",
            "   -0.0315155  -0.04868368  0.03720221  0.02415097  0.01978016\n",
            "    0.02969548 -0.01086744]\n",
            "  [ 0.02395791  0.00284358  0.04868624 -0.02238731 -0.00964348\n",
            "   -0.0315155  -0.04868368  0.03720221  0.02415097  0.01978016\n",
            "    0.02969548 -0.01086744]\n",
            "  [ 0.02395791  0.00284358  0.04868624 -0.02238731 -0.00964348\n",
            "   -0.0315155  -0.04868368  0.03720221  0.02415097  0.01978016\n",
            "    0.02969548 -0.01086744]\n",
            "  [ 0.01449854  0.03734146  0.04973729 -0.01316369 -0.02066032\n",
            "    0.02889304 -0.04357566 -0.0275795   0.0405031   0.04692684\n",
            "    0.00369586  0.04880102]\n",
            "  [ 0.03306018 -0.04602019 -0.03910241 -0.04287614  0.01464722\n",
            "    0.00798472 -0.04169351  0.00662624  0.04123816  0.04915437\n",
            "   -0.0462052  -0.02792537]\n",
            "  [ 0.00137099 -0.03770404  0.00881755  0.01215769 -0.03869247\n",
            "    0.0246663   0.02068773  0.01886899  0.04929532  0.0245058\n",
            "    0.02347625 -0.01816531]\n",
            "  [-0.00808842  0.00065863  0.01097114 -0.02595645  0.03592043\n",
            "    0.02475139  0.01805146  0.01329167  0.01049728 -0.02524862\n",
            "   -0.03665888  0.01477197]\n",
            "  [-0.02251972 -0.02379482  0.04840497 -0.02452185  0.04504759\n",
            "    0.04781942  0.03366833  0.0020141  -0.03841069 -0.00485085\n",
            "   -0.00554999  0.02374141]]\n",
            "\n",
            " [[ 0.02395791  0.00284358  0.04868624 -0.02238731 -0.00964348\n",
            "   -0.0315155  -0.04868368  0.03720221  0.02415097  0.01978016\n",
            "    0.02969548 -0.01086744]\n",
            "  [ 0.02395791  0.00284358  0.04868624 -0.02238731 -0.00964348\n",
            "   -0.0315155  -0.04868368  0.03720221  0.02415097  0.01978016\n",
            "    0.02969548 -0.01086744]\n",
            "  [ 0.02395791  0.00284358  0.04868624 -0.02238731 -0.00964348\n",
            "   -0.0315155  -0.04868368  0.03720221  0.02415097  0.01978016\n",
            "    0.02969548 -0.01086744]\n",
            "  [ 0.02395791  0.00284358  0.04868624 -0.02238731 -0.00964348\n",
            "   -0.0315155  -0.04868368  0.03720221  0.02415097  0.01978016\n",
            "    0.02969548 -0.01086744]\n",
            "  [ 0.02395791  0.00284358  0.04868624 -0.02238731 -0.00964348\n",
            "   -0.0315155  -0.04868368  0.03720221  0.02415097  0.01978016\n",
            "    0.02969548 -0.01086744]\n",
            "  [ 0.01449854  0.03734146  0.04973729 -0.01316369 -0.02066032\n",
            "    0.02889304 -0.04357566 -0.0275795   0.0405031   0.04692684\n",
            "    0.00369586  0.04880102]\n",
            "  [ 0.03306018 -0.04602019 -0.03910241 -0.04287614  0.01464722\n",
            "    0.00798472 -0.04169351  0.00662624  0.04123816  0.04915437\n",
            "   -0.0462052  -0.02792537]\n",
            "  [ 0.00137099 -0.03770404  0.00881755  0.01215769 -0.03869247\n",
            "    0.0246663   0.02068773  0.01886899  0.04929532  0.0245058\n",
            "    0.02347625 -0.01816531]\n",
            "  [-0.00808842  0.00065863  0.01097114 -0.02595645  0.03592043\n",
            "    0.02475139  0.01805146  0.01329167  0.01049728 -0.02524862\n",
            "   -0.03665888  0.01477197]\n",
            "  [-0.04824898  0.01202829  0.04749818 -0.02112169  0.00759656\n",
            "   -0.02906707  0.0284499  -0.01305435 -0.01043438  0.04815746\n",
            "   -0.01740494  0.03859332]]\n",
            "\n",
            " [[ 0.02395791  0.00284358  0.04868624 -0.02238731 -0.00964348\n",
            "   -0.0315155  -0.04868368  0.03720221  0.02415097  0.01978016\n",
            "    0.02969548 -0.01086744]\n",
            "  [ 0.02395791  0.00284358  0.04868624 -0.02238731 -0.00964348\n",
            "   -0.0315155  -0.04868368  0.03720221  0.02415097  0.01978016\n",
            "    0.02969548 -0.01086744]\n",
            "  [ 0.02395791  0.00284358  0.04868624 -0.02238731 -0.00964348\n",
            "   -0.0315155  -0.04868368  0.03720221  0.02415097  0.01978016\n",
            "    0.02969548 -0.01086744]\n",
            "  [ 0.02395791  0.00284358  0.04868624 -0.02238731 -0.00964348\n",
            "   -0.0315155  -0.04868368  0.03720221  0.02415097  0.01978016\n",
            "    0.02969548 -0.01086744]\n",
            "  [ 0.02395791  0.00284358  0.04868624 -0.02238731 -0.00964348\n",
            "   -0.0315155  -0.04868368  0.03720221  0.02415097  0.01978016\n",
            "    0.02969548 -0.01086744]\n",
            "  [ 0.01466762 -0.01004523 -0.02224488  0.03005126 -0.02692137\n",
            "    0.03508594  0.00907729  0.02955614  0.00038501 -0.02343793\n",
            "   -0.02270541 -0.03905225]\n",
            "  [-0.02780331  0.03683993 -0.00940941  0.00542865  0.02094686\n",
            "    0.01869703  0.02904643 -0.03519057 -0.00246198 -0.01886902\n",
            "    0.03362992  0.04191473]\n",
            "  [-0.01177694 -0.01105702 -0.03143211  0.02459799  0.02981334\n",
            "   -0.02738277  0.0337242  -0.00435767 -0.03787992  0.02749021\n",
            "   -0.00166429 -0.04232891]\n",
            "  [-0.00113219 -0.03331989 -0.02724662  0.01151019  0.01868229\n",
            "    0.0490816   0.00705421  0.04063631  0.00600718  0.03507927\n",
            "    0.03428276  0.04180357]\n",
            "  [ 0.012408   -0.03126695  0.01296819 -0.04744757 -0.03656659\n",
            "   -0.00270919 -0.04281273  0.04187747 -0.03195759  0.04220799\n",
            "   -0.03885829  0.01069837]]\n",
            "\n",
            " [[ 0.02395791  0.00284358  0.04868624 -0.02238731 -0.00964348\n",
            "   -0.0315155  -0.04868368  0.03720221  0.02415097  0.01978016\n",
            "    0.02969548 -0.01086744]\n",
            "  [ 0.02395791  0.00284358  0.04868624 -0.02238731 -0.00964348\n",
            "   -0.0315155  -0.04868368  0.03720221  0.02415097  0.01978016\n",
            "    0.02969548 -0.01086744]\n",
            "  [ 0.02395791  0.00284358  0.04868624 -0.02238731 -0.00964348\n",
            "   -0.0315155  -0.04868368  0.03720221  0.02415097  0.01978016\n",
            "    0.02969548 -0.01086744]\n",
            "  [ 0.02395791  0.00284358  0.04868624 -0.02238731 -0.00964348\n",
            "   -0.0315155  -0.04868368  0.03720221  0.02415097  0.01978016\n",
            "    0.02969548 -0.01086744]\n",
            "  [ 0.02395791  0.00284358  0.04868624 -0.02238731 -0.00964348\n",
            "   -0.0315155  -0.04868368  0.03720221  0.02415097  0.01978016\n",
            "    0.02969548 -0.01086744]\n",
            "  [ 0.02395791  0.00284358  0.04868624 -0.02238731 -0.00964348\n",
            "   -0.0315155  -0.04868368  0.03720221  0.02415097  0.01978016\n",
            "    0.02969548 -0.01086744]\n",
            "  [ 0.00258468  0.02288136 -0.02821351  0.02581722 -0.04762748\n",
            "    0.01949438  0.04520232 -0.00620594  0.00399231  0.01728803\n",
            "   -0.00412308 -0.04649997]\n",
            "  [-0.04617391  0.0168451  -0.02352749  0.03948781 -0.02918169\n",
            "   -0.04943604  0.03752266  0.03805545  0.03893199 -0.04677581\n",
            "    0.02311316  0.03693083]\n",
            "  [ 0.02436829 -0.04043942 -0.03282713  0.03619603  0.0099333\n",
            "   -0.04322859 -0.03161788 -0.03496417  0.03004834 -0.00190964\n",
            "   -0.02921993  0.00794554]\n",
            "  [-0.00808842  0.00065863  0.01097114 -0.02595645  0.03592043\n",
            "    0.02475139  0.01805146  0.01329167  0.01049728 -0.02524862\n",
            "   -0.03665888  0.01477197]]]\n"
          ]
        }
      ]
    },
    {
      "cell_type": "code",
      "source": [],
      "metadata": {
        "id": "kFIWIzWTZsO5"
      },
      "execution_count": null,
      "outputs": []
    },
    {
      "cell_type": "code",
      "source": [],
      "metadata": {
        "id": "myIjeuJ5ZsMR"
      },
      "execution_count": null,
      "outputs": []
    },
    {
      "cell_type": "code",
      "source": [],
      "metadata": {
        "id": "HyazK2FwZsJ6"
      },
      "execution_count": null,
      "outputs": []
    },
    {
      "cell_type": "markdown",
      "source": [
        "#  new Way"
      ],
      "metadata": {
        "id": "b8-KfNdvfTQP"
      }
    },
    {
      "cell_type": "code",
      "source": [],
      "metadata": {
        "id": "EfsxJzhfZsIN"
      },
      "execution_count": null,
      "outputs": []
    },
    {
      "cell_type": "code",
      "source": [
        "from tensorflow.keras.layers import Embedding, Flatten, Dense\n",
        "from tensorflow.keras.models import Sequential\n",
        "\n",
        "# ...\n",
        "\n",
        "# Create the model\n",
        "model = Sequential()\n",
        "\n",
        "# Add Embedding layer\n",
        "model.add(Embedding(input_dim=voc_size, output_dim=12, input_length=sent_length))\n",
        "\n",
        "# Flatten the embeddings\n",
        "model.add(Flatten())                  # <-- : It simplifies the model structure,\n",
        "\n",
        "# Add Dense layers for regression task\n",
        "model.add(Dense(64, activation='relu'))\n",
        "model.add(Dense(1, activation='linear'))  # Use 'linear' activation for regression if op is continues\n",
        "\n",
        "# Compile the model\n",
        "model.compile(optimizer='adam', loss='mse')  # Use mean squared error for regression\n",
        "\n",
        "# Display model summary\n",
        "model.summary()\n",
        "\n",
        "# Predict using the model\n",
        "predictions = model.predict(embedded_docs)\n",
        "print(predictions)\n"
      ],
      "metadata": {
        "colab": {
          "base_uri": "https://localhost:8080/"
        },
        "id": "UGCbSPCjZsFp",
        "outputId": "c400dc64-851c-4d50-c3ef-3a430c56e78e"
      },
      "execution_count": 40,
      "outputs": [
        {
          "output_type": "stream",
          "name": "stdout",
          "text": [
            "Model: \"sequential_3\"\n",
            "_________________________________________________________________\n",
            " Layer (type)                Output Shape              Param #   \n",
            "=================================================================\n",
            " embedding_2 (Embedding)     (None, 10, 12)            12000     \n",
            "                                                                 \n",
            " flatten_1 (Flatten)         (None, 120)               0         \n",
            "                                                                 \n",
            " dense_2 (Dense)             (None, 64)                7744      \n",
            "                                                                 \n",
            " dense_3 (Dense)             (None, 1)                 65        \n",
            "                                                                 \n",
            "=================================================================\n",
            "Total params: 19809 (77.38 KB)\n",
            "Trainable params: 19809 (77.38 KB)\n",
            "Non-trainable params: 0 (0.00 Byte)\n",
            "_________________________________________________________________\n",
            "1/1 [==============================] - 0s 56ms/step\n",
            "[[-0.00247085]\n",
            " [ 0.01160584]\n",
            " [-0.01232393]\n",
            " [ 0.00093636]\n",
            " [-0.00946833]\n",
            " [-0.01968632]\n",
            " [ 0.01630191]]\n"
          ]
        }
      ]
    },
    {
      "cell_type": "code",
      "source": [],
      "metadata": {
        "id": "1rpMUt3ZZsDr"
      },
      "execution_count": null,
      "outputs": []
    },
    {
      "cell_type": "code",
      "source": [],
      "metadata": {
        "id": "Bdr38aq_Zr-r"
      },
      "execution_count": null,
      "outputs": []
    },
    {
      "cell_type": "code",
      "source": [],
      "metadata": {
        "id": "fyVOWAndokq3"
      },
      "execution_count": null,
      "outputs": []
    },
    {
      "cell_type": "code",
      "source": [],
      "metadata": {
        "id": "_ADcVuDpokpB"
      },
      "execution_count": null,
      "outputs": []
    },
    {
      "cell_type": "code",
      "source": [
        "\n",
        "\n",
        "sent=[\"The world is a better place\",\n",
        "      \"Marvel series is my favourite movie\",\n",
        "      \"I like DC movies\",\n",
        "      \"the cat is eating the food\",\n",
        "      \"Tom and Jerry is my favourite movie\",\n",
        "      \"Python is my favourite programming language\"\n",
        "      ]"
      ],
      "metadata": {
        "id": "HhBc9zjbobzM"
      },
      "execution_count": 48,
      "outputs": []
    },
    {
      "cell_type": "code",
      "source": [
        "from tensorflow.keras.preprocessing.text import one_hot"
      ],
      "metadata": {
        "id": "NNrvMZHRobwR"
      },
      "execution_count": 49,
      "outputs": []
    },
    {
      "cell_type": "code",
      "source": [
        "# step 1  = vocab size\n",
        "\n",
        "vocab_size = 500"
      ],
      "metadata": {
        "id": "dCMNdsmjobt4"
      },
      "execution_count": 50,
      "outputs": []
    },
    {
      "cell_type": "code",
      "source": [
        "one_hot_repr =  [one_hot(word , vocab_size)for word in sent]"
      ],
      "metadata": {
        "id": "VHI4nUfXo3-u"
      },
      "execution_count": 51,
      "outputs": []
    },
    {
      "cell_type": "code",
      "source": [
        "one_hot_repr"
      ],
      "metadata": {
        "colab": {
          "base_uri": "https://localhost:8080/"
        },
        "id": "X5MoWE75pf7y",
        "outputId": "d3676707-b228-45a1-9b6a-65f2eccee74a"
      },
      "execution_count": 52,
      "outputs": [
        {
          "output_type": "execute_result",
          "data": {
            "text/plain": [
              "[[285, 355, 109, 234, 198, 260],\n",
              " [235, 311, 109, 33, 107, 277],\n",
              " [206, 44, 278, 87],\n",
              " [285, 298, 109, 148, 285, 469],\n",
              " [1, 180, 196, 109, 33, 107, 277],\n",
              " [478, 109, 33, 107, 15, 345]]"
            ]
          },
          "metadata": {},
          "execution_count": 52
        }
      ]
    },
    {
      "cell_type": "code",
      "source": [
        "\"Marvel series is my favourite movie\"\n",
        "one_hot_repr[1]"
      ],
      "metadata": {
        "colab": {
          "base_uri": "https://localhost:8080/"
        },
        "id": "PVnUFSt7pf4-",
        "outputId": "5f4fb694-b590-412f-8382-a7f02fc40fd1"
      },
      "execution_count": 53,
      "outputs": [
        {
          "output_type": "execute_result",
          "data": {
            "text/plain": [
              "[235, 311, 109, 33, 107, 277]"
            ]
          },
          "metadata": {},
          "execution_count": 53
        }
      ]
    },
    {
      "cell_type": "code",
      "source": [
        "from tensorflow.keras.preprocessing.sequence import pad_sequences"
      ],
      "metadata": {
        "id": "HEXpYWdzpzrP"
      },
      "execution_count": 55,
      "outputs": []
    },
    {
      "cell_type": "code",
      "source": [
        "sent_length = 10"
      ],
      "metadata": {
        "id": "lG8J8CmvqOo8"
      },
      "execution_count": 59,
      "outputs": []
    },
    {
      "cell_type": "code",
      "source": [
        "embedded_doc =pad_sequences(one_hot_repr , maxlen=sent_length , padding='post' )"
      ],
      "metadata": {
        "id": "dEBpNA8qpzpI"
      },
      "execution_count": 60,
      "outputs": []
    },
    {
      "cell_type": "code",
      "source": [
        "embedded_doc"
      ],
      "metadata": {
        "colab": {
          "base_uri": "https://localhost:8080/"
        },
        "id": "ytco8L-7pzmr",
        "outputId": "f9c022e6-3c6f-4dd9-bb48-ed3ff076eafe"
      },
      "execution_count": 61,
      "outputs": [
        {
          "output_type": "execute_result",
          "data": {
            "text/plain": [
              "array([[285, 355, 109, 234, 198, 260,   0,   0,   0,   0],\n",
              "       [235, 311, 109,  33, 107, 277,   0,   0,   0,   0],\n",
              "       [206,  44, 278,  87,   0,   0,   0,   0,   0,   0],\n",
              "       [285, 298, 109, 148, 285, 469,   0,   0,   0,   0],\n",
              "       [  1, 180, 196, 109,  33, 107, 277,   0,   0,   0],\n",
              "       [478, 109,  33, 107,  15, 345,   0,   0,   0,   0]], dtype=int32)"
            ]
          },
          "metadata": {},
          "execution_count": 61
        }
      ]
    },
    {
      "cell_type": "code",
      "source": [
        "#  feature dimention\n",
        "\n",
        "fea_dimention = 15"
      ],
      "metadata": {
        "id": "bQO4lrKlpzkT"
      },
      "execution_count": 63,
      "outputs": []
    },
    {
      "cell_type": "code",
      "source": [
        "# word embeddding representation"
      ],
      "metadata": {
        "id": "fkgRaSgRo38v"
      },
      "execution_count": null,
      "outputs": []
    },
    {
      "cell_type": "markdown",
      "source": [
        "## Word_embedding"
      ],
      "metadata": {
        "id": "meFuNfgmrQZf"
      }
    },
    {
      "cell_type": "code",
      "source": [
        "from tensorflow.keras.layers import Embedding\n",
        "from tensorflow.keras.models import Sequential"
      ],
      "metadata": {
        "id": "UocRpJ2ZrBol"
      },
      "execution_count": 65,
      "outputs": []
    },
    {
      "cell_type": "code",
      "source": [
        "model= Sequential()"
      ],
      "metadata": {
        "id": "AuP2r5QlrP5G"
      },
      "execution_count": 66,
      "outputs": []
    },
    {
      "cell_type": "code",
      "source": [
        "model.add(Embedding(input_dim=vocab_size , output_dim=fea_dimention ,input_length=sent_length))\n",
        "\n",
        "model.add(Flatten())\n",
        "model.add(Dense(64, activation='relu'))\n",
        "model.add(Dense(1, activation='sigmoid'))\n",
        "\n",
        "model.compile(optimizer='adam', loss='mse')\n",
        "\n",
        "\n",
        "model.summary()\n"
      ],
      "metadata": {
        "colab": {
          "base_uri": "https://localhost:8080/"
        },
        "id": "6TFzckLNrBfH",
        "outputId": "40a78b2f-f3bc-4ff7-946f-2f2602dc3111"
      },
      "execution_count": 67,
      "outputs": [
        {
          "output_type": "stream",
          "name": "stdout",
          "text": [
            "Model: \"sequential_4\"\n",
            "_________________________________________________________________\n",
            " Layer (type)                Output Shape              Param #   \n",
            "=================================================================\n",
            " embedding_3 (Embedding)     (None, 10, 15)            7500      \n",
            "                                                                 \n",
            " flatten_2 (Flatten)         (None, 150)               0         \n",
            "                                                                 \n",
            " dense_4 (Dense)             (None, 64)                9664      \n",
            "                                                                 \n",
            " dense_5 (Dense)             (None, 1)                 65        \n",
            "                                                                 \n",
            "=================================================================\n",
            "Total params: 17229 (67.30 KB)\n",
            "Trainable params: 17229 (67.30 KB)\n",
            "Non-trainable params: 0 (0.00 Byte)\n",
            "_________________________________________________________________\n"
          ]
        }
      ]
    },
    {
      "cell_type": "code",
      "source": [
        "model.predict(embedded_doc)"
      ],
      "metadata": {
        "colab": {
          "base_uri": "https://localhost:8080/"
        },
        "id": "FIKRITRjszRZ",
        "outputId": "4bb112ff-88dc-47bd-c97d-8edbb813de5f"
      },
      "execution_count": 68,
      "outputs": [
        {
          "output_type": "stream",
          "name": "stderr",
          "text": [
            "WARNING:tensorflow:5 out of the last 6 calls to <function Model.make_predict_function.<locals>.predict_function at 0x7d62dd3a4310> triggered tf.function retracing. Tracing is expensive and the excessive number of tracings could be due to (1) creating @tf.function repeatedly in a loop, (2) passing tensors with different shapes, (3) passing Python objects instead of tensors. For (1), please define your @tf.function outside of the loop. For (2), @tf.function has reduce_retracing=True option that can avoid unnecessary retracing. For (3), please refer to https://www.tensorflow.org/guide/function#controlling_retracing and https://www.tensorflow.org/api_docs/python/tf/function for  more details.\n"
          ]
        },
        {
          "output_type": "stream",
          "name": "stdout",
          "text": [
            "1/1 [==============================] - 0s 158ms/step\n"
          ]
        },
        {
          "output_type": "execute_result",
          "data": {
            "text/plain": [
              "array([[0.5108831 ],\n",
              "       [0.50163484],\n",
              "       [0.5023624 ],\n",
              "       [0.50297314],\n",
              "       [0.5026244 ],\n",
              "       [0.50225806]], dtype=float32)"
            ]
          },
          "metadata": {},
          "execution_count": 68
        }
      ]
    },
    {
      "cell_type": "code",
      "source": [],
      "metadata": {
        "id": "7HyWjZF7r0lE"
      },
      "execution_count": null,
      "outputs": []
    },
    {
      "cell_type": "code",
      "source": [],
      "metadata": {
        "id": "5_vqIhl9r0ig"
      },
      "execution_count": null,
      "outputs": []
    },
    {
      "cell_type": "code",
      "source": [],
      "metadata": {
        "id": "sVmx299pr0dd"
      },
      "execution_count": null,
      "outputs": []
    },
    {
      "cell_type": "code",
      "source": [],
      "metadata": {
        "id": "GzDHbAd8rBbL"
      },
      "execution_count": null,
      "outputs": []
    }
  ]
}