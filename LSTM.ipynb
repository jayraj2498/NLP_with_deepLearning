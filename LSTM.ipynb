{
  "nbformat": 4,
  "nbformat_minor": 0,
  "metadata": {
    "colab": {
      "provenance": []
    },
    "kernelspec": {
      "name": "python3",
      "display_name": "Python 3"
    },
    "language_info": {
      "name": "python"
    }
  },
  "cells": [
    {
      "cell_type": "code",
      "execution_count": 3,
      "metadata": {
        "id": "zMfoayXKZ7qR"
      },
      "outputs": [],
      "source": [
        "import numpy as np\n",
        "import matplotlib.pyplot as plt\n",
        "import pandas as pd\n",
        "import tensorflow as tf\n",
        "from sklearn.metrics import mean_squared_error\n",
        "\n",
        "\n",
        "# Load the dataset\n",
        "dataset = pd.read_csv('https://raw.githubusercontent.com/jbrownlee/Datasets/master/airline-passengers.csv', usecols=[1], engine='python', skipfooter=3)\n"
      ]
    },
    {
      "cell_type": "code",
      "source": [
        "dataset.head(10)"
      ],
      "metadata": {
        "colab": {
          "base_uri": "https://localhost:8080/",
          "height": 363
        },
        "id": "tFMl992faAc2",
        "outputId": "0cc69b34-6c1c-45d6-ac1f-444ad34acdec"
      },
      "execution_count": 4,
      "outputs": [
        {
          "output_type": "execute_result",
          "data": {
            "text/plain": [
              "   Passengers\n",
              "0         112\n",
              "1         118\n",
              "2         132\n",
              "3         129\n",
              "4         121\n",
              "5         135\n",
              "6         148\n",
              "7         148\n",
              "8         136\n",
              "9         119"
            ],
            "text/html": [
              "\n",
              "  <div id=\"df-3bba2b4d-5332-44c4-ab2a-ca5834b8035e\">\n",
              "    <div class=\"colab-df-container\">\n",
              "      <div>\n",
              "<style scoped>\n",
              "    .dataframe tbody tr th:only-of-type {\n",
              "        vertical-align: middle;\n",
              "    }\n",
              "\n",
              "    .dataframe tbody tr th {\n",
              "        vertical-align: top;\n",
              "    }\n",
              "\n",
              "    .dataframe thead th {\n",
              "        text-align: right;\n",
              "    }\n",
              "</style>\n",
              "<table border=\"1\" class=\"dataframe\">\n",
              "  <thead>\n",
              "    <tr style=\"text-align: right;\">\n",
              "      <th></th>\n",
              "      <th>Passengers</th>\n",
              "    </tr>\n",
              "  </thead>\n",
              "  <tbody>\n",
              "    <tr>\n",
              "      <th>0</th>\n",
              "      <td>112</td>\n",
              "    </tr>\n",
              "    <tr>\n",
              "      <th>1</th>\n",
              "      <td>118</td>\n",
              "    </tr>\n",
              "    <tr>\n",
              "      <th>2</th>\n",
              "      <td>132</td>\n",
              "    </tr>\n",
              "    <tr>\n",
              "      <th>3</th>\n",
              "      <td>129</td>\n",
              "    </tr>\n",
              "    <tr>\n",
              "      <th>4</th>\n",
              "      <td>121</td>\n",
              "    </tr>\n",
              "    <tr>\n",
              "      <th>5</th>\n",
              "      <td>135</td>\n",
              "    </tr>\n",
              "    <tr>\n",
              "      <th>6</th>\n",
              "      <td>148</td>\n",
              "    </tr>\n",
              "    <tr>\n",
              "      <th>7</th>\n",
              "      <td>148</td>\n",
              "    </tr>\n",
              "    <tr>\n",
              "      <th>8</th>\n",
              "      <td>136</td>\n",
              "    </tr>\n",
              "    <tr>\n",
              "      <th>9</th>\n",
              "      <td>119</td>\n",
              "    </tr>\n",
              "  </tbody>\n",
              "</table>\n",
              "</div>\n",
              "      <button class=\"colab-df-convert\" onclick=\"convertToInteractive('df-3bba2b4d-5332-44c4-ab2a-ca5834b8035e')\"\n",
              "              title=\"Convert this dataframe to an interactive table.\"\n",
              "              style=\"display:none;\">\n",
              "        \n",
              "  <svg xmlns=\"http://www.w3.org/2000/svg\" height=\"24px\"viewBox=\"0 0 24 24\"\n",
              "       width=\"24px\">\n",
              "    <path d=\"M0 0h24v24H0V0z\" fill=\"none\"/>\n",
              "    <path d=\"M18.56 5.44l.94 2.06.94-2.06 2.06-.94-2.06-.94-.94-2.06-.94 2.06-2.06.94zm-11 1L8.5 8.5l.94-2.06 2.06-.94-2.06-.94L8.5 2.5l-.94 2.06-2.06.94zm10 10l.94 2.06.94-2.06 2.06-.94-2.06-.94-.94-2.06-.94 2.06-2.06.94z\"/><path d=\"M17.41 7.96l-1.37-1.37c-.4-.4-.92-.59-1.43-.59-.52 0-1.04.2-1.43.59L10.3 9.45l-7.72 7.72c-.78.78-.78 2.05 0 2.83L4 21.41c.39.39.9.59 1.41.59.51 0 1.02-.2 1.41-.59l7.78-7.78 2.81-2.81c.8-.78.8-2.07 0-2.86zM5.41 20L4 18.59l7.72-7.72 1.47 1.35L5.41 20z\"/>\n",
              "  </svg>\n",
              "      </button>\n",
              "      \n",
              "  <style>\n",
              "    .colab-df-container {\n",
              "      display:flex;\n",
              "      flex-wrap:wrap;\n",
              "      gap: 12px;\n",
              "    }\n",
              "\n",
              "    .colab-df-convert {\n",
              "      background-color: #E8F0FE;\n",
              "      border: none;\n",
              "      border-radius: 50%;\n",
              "      cursor: pointer;\n",
              "      display: none;\n",
              "      fill: #1967D2;\n",
              "      height: 32px;\n",
              "      padding: 0 0 0 0;\n",
              "      width: 32px;\n",
              "    }\n",
              "\n",
              "    .colab-df-convert:hover {\n",
              "      background-color: #E2EBFA;\n",
              "      box-shadow: 0px 1px 2px rgba(60, 64, 67, 0.3), 0px 1px 3px 1px rgba(60, 64, 67, 0.15);\n",
              "      fill: #174EA6;\n",
              "    }\n",
              "\n",
              "    [theme=dark] .colab-df-convert {\n",
              "      background-color: #3B4455;\n",
              "      fill: #D2E3FC;\n",
              "    }\n",
              "\n",
              "    [theme=dark] .colab-df-convert:hover {\n",
              "      background-color: #434B5C;\n",
              "      box-shadow: 0px 1px 3px 1px rgba(0, 0, 0, 0.15);\n",
              "      filter: drop-shadow(0px 1px 2px rgba(0, 0, 0, 0.3));\n",
              "      fill: #FFFFFF;\n",
              "    }\n",
              "  </style>\n",
              "\n",
              "      <script>\n",
              "        const buttonEl =\n",
              "          document.querySelector('#df-3bba2b4d-5332-44c4-ab2a-ca5834b8035e button.colab-df-convert');\n",
              "        buttonEl.style.display =\n",
              "          google.colab.kernel.accessAllowed ? 'block' : 'none';\n",
              "\n",
              "        async function convertToInteractive(key) {\n",
              "          const element = document.querySelector('#df-3bba2b4d-5332-44c4-ab2a-ca5834b8035e');\n",
              "          const dataTable =\n",
              "            await google.colab.kernel.invokeFunction('convertToInteractive',\n",
              "                                                     [key], {});\n",
              "          if (!dataTable) return;\n",
              "\n",
              "          const docLinkHtml = 'Like what you see? Visit the ' +\n",
              "            '<a target=\"_blank\" href=https://colab.research.google.com/notebooks/data_table.ipynb>data table notebook</a>'\n",
              "            + ' to learn more about interactive tables.';\n",
              "          element.innerHTML = '';\n",
              "          dataTable['output_type'] = 'display_data';\n",
              "          await google.colab.output.renderOutput(dataTable, element);\n",
              "          const docLink = document.createElement('div');\n",
              "          docLink.innerHTML = docLinkHtml;\n",
              "          element.appendChild(docLink);\n",
              "        }\n",
              "      </script>\n",
              "    </div>\n",
              "  </div>\n",
              "  "
            ]
          },
          "metadata": {},
          "execution_count": 4
        }
      ]
    },
    {
      "cell_type": "code",
      "source": [
        "min(dataset.Passengers)"
      ],
      "metadata": {
        "colab": {
          "base_uri": "https://localhost:8080/"
        },
        "id": "0w04fQSfa_Vq",
        "outputId": "4a3a6830-4f73-4a12-f7f4-461ec26d3e82"
      },
      "execution_count": 9,
      "outputs": [
        {
          "output_type": "execute_result",
          "data": {
            "text/plain": [
              "104"
            ]
          },
          "metadata": {},
          "execution_count": 9
        }
      ]
    },
    {
      "cell_type": "code",
      "source": [
        "look_back = 1 "
      ],
      "metadata": {
        "id": "X-Hpq7B8aMNn"
      },
      "execution_count": 20,
      "outputs": []
    },
    {
      "cell_type": "code",
      "source": [
        "from sklearn.preprocessing import MinMaxScaler"
      ],
      "metadata": {
        "id": "HBAuPnEMa0Gh"
      },
      "execution_count": 6,
      "outputs": []
    },
    {
      "cell_type": "code",
      "source": [
        "scaler = MinMaxScaler(feature_range=(0,1))"
      ],
      "metadata": {
        "id": "TMDe0TCKa8rg"
      },
      "execution_count": 10,
      "outputs": []
    },
    {
      "cell_type": "code",
      "source": [
        "dataset = scaler.fit_transform(dataset)"
      ],
      "metadata": {
        "id": "dRSE-COSbMeg"
      },
      "execution_count": 11,
      "outputs": []
    },
    {
      "cell_type": "code",
      "source": [
        "dataset[:5]"
      ],
      "metadata": {
        "colab": {
          "base_uri": "https://localhost:8080/"
        },
        "id": "nS6uzrNmbRl4",
        "outputId": "3936c4d5-dea4-4a69-a85d-39d9392d750e"
      },
      "execution_count": 13,
      "outputs": [
        {
          "output_type": "execute_result",
          "data": {
            "text/plain": [
              "array([[0.01544402],\n",
              "       [0.02702703],\n",
              "       [0.05405405],\n",
              "       [0.04826255],\n",
              "       [0.03281853]])"
            ]
          },
          "metadata": {},
          "execution_count": 13
        }
      ]
    },
    {
      "cell_type": "code",
      "source": [
        "len(dataset)"
      ],
      "metadata": {
        "colab": {
          "base_uri": "https://localhost:8080/"
        },
        "id": "Jhvu55G4bSkp",
        "outputId": "3cd82692-c938-40cb-f68b-5b9819ea085c"
      },
      "execution_count": 14,
      "outputs": [
        {
          "output_type": "execute_result",
          "data": {
            "text/plain": [
              "141"
            ]
          },
          "metadata": {},
          "execution_count": 14
        }
      ]
    },
    {
      "cell_type": "code",
      "source": [
        "training_size = 100\n",
        "train, test = dataset[0:training_size, :],dataset[training_size:len(dataset),:]"
      ],
      "metadata": {
        "id": "-WePPXP7bbfg"
      },
      "execution_count": 16,
      "outputs": []
    },
    {
      "cell_type": "code",
      "source": [
        "train.shape"
      ],
      "metadata": {
        "colab": {
          "base_uri": "https://localhost:8080/"
        },
        "id": "4Dfv6OhybioG",
        "outputId": "8b856992-8634-48ba-cde6-e6824fed15ce"
      },
      "execution_count": 17,
      "outputs": [
        {
          "output_type": "execute_result",
          "data": {
            "text/plain": [
              "(100, 1)"
            ]
          },
          "metadata": {},
          "execution_count": 17
        }
      ]
    },
    {
      "cell_type": "code",
      "source": [
        "test.shape"
      ],
      "metadata": {
        "colab": {
          "base_uri": "https://localhost:8080/"
        },
        "id": "3WfS1Jb8b1Tt",
        "outputId": "aca4ac4a-ea24-484c-911b-59a1397ff5b9"
      },
      "execution_count": 18,
      "outputs": [
        {
          "output_type": "execute_result",
          "data": {
            "text/plain": [
              "(41, 1)"
            ]
          },
          "metadata": {},
          "execution_count": 18
        }
      ]
    },
    {
      "cell_type": "code",
      "source": [
        "import numpy as np\n",
        "def create_x_y(data,look_back):\n",
        "  x_data, y_data = [],[]\n",
        "  for i in range(len(data) - look_back - 1):\n",
        "    iv = data[i:(i+look_back),0]\n",
        "    dv = data[i + look_back,0]\n",
        "    x_data.append(iv)\n",
        "    y_data.append(dv)\n",
        "  x_data = np.array(x_data)\n",
        "  y_data = np.array(y_data)\n",
        "  return x_data,y_data\n"
      ],
      "metadata": {
        "id": "I6vuyo3db4MQ"
      },
      "execution_count": 21,
      "outputs": []
    },
    {
      "cell_type": "code",
      "source": [
        "x_train,y_train = create_x_y(train,1)"
      ],
      "metadata": {
        "id": "3DXytwnRdMqF"
      },
      "execution_count": 25,
      "outputs": []
    },
    {
      "cell_type": "code",
      "source": [
        "x_test,y_test = create_x_y(test,1)"
      ],
      "metadata": {
        "id": "Yj-RLxXChSGM"
      },
      "execution_count": 28,
      "outputs": []
    },
    {
      "cell_type": "code",
      "source": [],
      "metadata": {
        "id": "_c5RBtsthZU9"
      },
      "execution_count": 30,
      "outputs": []
    },
    {
      "cell_type": "code",
      "source": [
        "# sequestial models usually take data interms of 3d array"
      ],
      "metadata": {
        "id": "SkTrbW_shauf"
      },
      "execution_count": 31,
      "outputs": []
    },
    {
      "cell_type": "code",
      "source": [
        "x_train.shape"
      ],
      "metadata": {
        "colab": {
          "base_uri": "https://localhost:8080/"
        },
        "id": "J0KNvDyUhoIA",
        "outputId": "defe1891-9006-4d80-cd5f-31544b277bea"
      },
      "execution_count": 36,
      "outputs": [
        {
          "output_type": "execute_result",
          "data": {
            "text/plain": [
              "(98, 1)"
            ]
          },
          "metadata": {},
          "execution_count": 36
        }
      ]
    },
    {
      "cell_type": "code",
      "source": [
        "x_train = np.reshape(x_train,(x_train.shape[0], 1, x_train.shape[1]))"
      ],
      "metadata": {
        "id": "Y0_MA0xehpQP"
      },
      "execution_count": 37,
      "outputs": []
    },
    {
      "cell_type": "code",
      "source": [
        "x_train.shape"
      ],
      "metadata": {
        "colab": {
          "base_uri": "https://localhost:8080/"
        },
        "id": "M1TntTDjh4uy",
        "outputId": "869ea354-302a-4aef-8a57-f71ae3b0fc87"
      },
      "execution_count": 38,
      "outputs": [
        {
          "output_type": "execute_result",
          "data": {
            "text/plain": [
              "(98, 1, 1)"
            ]
          },
          "metadata": {},
          "execution_count": 38
        }
      ]
    },
    {
      "cell_type": "code",
      "source": [
        "x_test.shape"
      ],
      "metadata": {
        "colab": {
          "base_uri": "https://localhost:8080/"
        },
        "id": "YwbFnlwwiDpb",
        "outputId": "d9ca8124-95ea-4a14-b6d1-e4898a7a4c88"
      },
      "execution_count": 39,
      "outputs": [
        {
          "output_type": "execute_result",
          "data": {
            "text/plain": [
              "(39, 1)"
            ]
          },
          "metadata": {},
          "execution_count": 39
        }
      ]
    },
    {
      "cell_type": "code",
      "source": [
        "x_test = np.reshape(x_test,(x_test.shape[0], 1, x_test.shape[1]))"
      ],
      "metadata": {
        "id": "uLImCtUzh5-Z"
      },
      "execution_count": 40,
      "outputs": []
    },
    {
      "cell_type": "code",
      "source": [
        "x_test.shape"
      ],
      "metadata": {
        "colab": {
          "base_uri": "https://localhost:8080/"
        },
        "id": "f7ylm0tUiFxe",
        "outputId": "d92f6d44-b7d8-4630-edf1-4cb6825a6359"
      },
      "execution_count": 41,
      "outputs": [
        {
          "output_type": "execute_result",
          "data": {
            "text/plain": [
              "(39, 1, 1)"
            ]
          },
          "metadata": {},
          "execution_count": 41
        }
      ]
    },
    {
      "cell_type": "code",
      "source": [
        "from tensorflow.keras.models import Sequential"
      ],
      "metadata": {
        "id": "rA2zE9c0iKt1"
      },
      "execution_count": 44,
      "outputs": []
    },
    {
      "cell_type": "code",
      "source": [
        "model = Sequential() #brain without neurons"
      ],
      "metadata": {
        "id": "qIFELgsdiKwm"
      },
      "execution_count": 46,
      "outputs": []
    },
    {
      "cell_type": "code",
      "source": [
        "from tensorflow.keras.layers import LSTM,Dense"
      ],
      "metadata": {
        "id": "-e0GJAgEiK04"
      },
      "execution_count": 48,
      "outputs": []
    },
    {
      "cell_type": "code",
      "source": [
        "model.add(LSTM(4, input_shape = (1, look_back), return_sequences=True))\n",
        "model.add(LSTM(4,return_sequences=True))\n",
        "model.add(LSTM(4)) \n",
        "\n",
        "model.add(Dense(1)) \n"
      ],
      "metadata": {
        "id": "JlT2MIh4iK3m"
      },
      "execution_count": 49,
      "outputs": []
    },
    {
      "cell_type": "code",
      "source": [
        "model.compile(loss = 'mean_squared_error', optimizer = \"adam\")"
      ],
      "metadata": {
        "id": "DhYiGfJWiK8C"
      },
      "execution_count": 52,
      "outputs": []
    },
    {
      "cell_type": "code",
      "source": [
        "model.fit(x_train,y_train, epochs = 100, batch_size = 1)"
      ],
      "metadata": {
        "colab": {
          "base_uri": "https://localhost:8080/"
        },
        "id": "rCaYfrzhiK-C",
        "outputId": "4423a6cf-167c-4f89-d044-0fd45aafdef8"
      },
      "execution_count": 53,
      "outputs": [
        {
          "output_type": "stream",
          "name": "stdout",
          "text": [
            "Epoch 1/100\n",
            "98/98 [==============================] - 4s 3ms/step - loss: 0.0426\n",
            "Epoch 2/100\n",
            "98/98 [==============================] - 0s 3ms/step - loss: 0.0209\n",
            "Epoch 3/100\n",
            "98/98 [==============================] - 0s 3ms/step - loss: 0.0180\n",
            "Epoch 4/100\n",
            "98/98 [==============================] - 0s 3ms/step - loss: 0.0174\n",
            "Epoch 5/100\n",
            "98/98 [==============================] - 0s 3ms/step - loss: 0.0164\n",
            "Epoch 6/100\n",
            "98/98 [==============================] - 0s 3ms/step - loss: 0.0154\n",
            "Epoch 7/100\n",
            "98/98 [==============================] - 0s 3ms/step - loss: 0.0137\n",
            "Epoch 8/100\n",
            "98/98 [==============================] - 0s 3ms/step - loss: 0.0117\n",
            "Epoch 9/100\n",
            "98/98 [==============================] - 0s 3ms/step - loss: 0.0093\n",
            "Epoch 10/100\n",
            "98/98 [==============================] - 0s 3ms/step - loss: 0.0071\n",
            "Epoch 11/100\n",
            "98/98 [==============================] - 0s 3ms/step - loss: 0.0047\n",
            "Epoch 12/100\n",
            "98/98 [==============================] - 0s 3ms/step - loss: 0.0035\n",
            "Epoch 13/100\n",
            "98/98 [==============================] - 0s 3ms/step - loss: 0.0028\n",
            "Epoch 14/100\n",
            "98/98 [==============================] - 0s 3ms/step - loss: 0.0026\n",
            "Epoch 15/100\n",
            "98/98 [==============================] - 0s 3ms/step - loss: 0.0024\n",
            "Epoch 16/100\n",
            "98/98 [==============================] - 0s 3ms/step - loss: 0.0024\n",
            "Epoch 17/100\n",
            "98/98 [==============================] - 0s 3ms/step - loss: 0.0025\n",
            "Epoch 18/100\n",
            "98/98 [==============================] - 0s 3ms/step - loss: 0.0023\n",
            "Epoch 19/100\n",
            "98/98 [==============================] - 0s 3ms/step - loss: 0.0024\n",
            "Epoch 20/100\n",
            "98/98 [==============================] - 0s 3ms/step - loss: 0.0024\n",
            "Epoch 21/100\n",
            "98/98 [==============================] - 0s 3ms/step - loss: 0.0024\n",
            "Epoch 22/100\n",
            "98/98 [==============================] - 0s 3ms/step - loss: 0.0024\n",
            "Epoch 23/100\n",
            "98/98 [==============================] - 0s 3ms/step - loss: 0.0025\n",
            "Epoch 24/100\n",
            "98/98 [==============================] - 0s 3ms/step - loss: 0.0023\n",
            "Epoch 25/100\n",
            "98/98 [==============================] - 0s 3ms/step - loss: 0.0023\n",
            "Epoch 26/100\n",
            "98/98 [==============================] - 0s 3ms/step - loss: 0.0023\n",
            "Epoch 27/100\n",
            "98/98 [==============================] - 0s 3ms/step - loss: 0.0023\n",
            "Epoch 28/100\n",
            "98/98 [==============================] - 0s 3ms/step - loss: 0.0022\n",
            "Epoch 29/100\n",
            "98/98 [==============================] - 0s 3ms/step - loss: 0.0024\n",
            "Epoch 30/100\n",
            "98/98 [==============================] - 0s 3ms/step - loss: 0.0023\n",
            "Epoch 31/100\n",
            "98/98 [==============================] - 0s 4ms/step - loss: 0.0024\n",
            "Epoch 32/100\n",
            "98/98 [==============================] - 0s 3ms/step - loss: 0.0025\n",
            "Epoch 33/100\n",
            "98/98 [==============================] - 0s 3ms/step - loss: 0.0023\n",
            "Epoch 34/100\n",
            "98/98 [==============================] - 0s 3ms/step - loss: 0.0023\n",
            "Epoch 35/100\n",
            "98/98 [==============================] - 0s 3ms/step - loss: 0.0023\n",
            "Epoch 36/100\n",
            "98/98 [==============================] - 0s 3ms/step - loss: 0.0022\n",
            "Epoch 37/100\n",
            "98/98 [==============================] - 0s 3ms/step - loss: 0.0023\n",
            "Epoch 38/100\n",
            "98/98 [==============================] - 0s 3ms/step - loss: 0.0022\n",
            "Epoch 39/100\n",
            "98/98 [==============================] - 0s 3ms/step - loss: 0.0022\n",
            "Epoch 40/100\n",
            "98/98 [==============================] - 0s 3ms/step - loss: 0.0024\n",
            "Epoch 41/100\n",
            "98/98 [==============================] - 0s 3ms/step - loss: 0.0023\n",
            "Epoch 42/100\n",
            "98/98 [==============================] - 0s 3ms/step - loss: 0.0022\n",
            "Epoch 43/100\n",
            "98/98 [==============================] - 0s 3ms/step - loss: 0.0022\n",
            "Epoch 44/100\n",
            "98/98 [==============================] - 0s 3ms/step - loss: 0.0023\n",
            "Epoch 45/100\n",
            "98/98 [==============================] - 0s 3ms/step - loss: 0.0022\n",
            "Epoch 46/100\n",
            "98/98 [==============================] - 0s 3ms/step - loss: 0.0021\n",
            "Epoch 47/100\n",
            "98/98 [==============================] - 0s 3ms/step - loss: 0.0022\n",
            "Epoch 48/100\n",
            "98/98 [==============================] - 0s 3ms/step - loss: 0.0022\n",
            "Epoch 49/100\n",
            "98/98 [==============================] - 0s 3ms/step - loss: 0.0022\n",
            "Epoch 50/100\n",
            "98/98 [==============================] - 0s 3ms/step - loss: 0.0023\n",
            "Epoch 51/100\n",
            "98/98 [==============================] - 0s 3ms/step - loss: 0.0021\n",
            "Epoch 52/100\n",
            "98/98 [==============================] - 0s 3ms/step - loss: 0.0021\n",
            "Epoch 53/100\n",
            "98/98 [==============================] - 0s 3ms/step - loss: 0.0024\n",
            "Epoch 54/100\n",
            "98/98 [==============================] - 0s 3ms/step - loss: 0.0022\n",
            "Epoch 55/100\n",
            "98/98 [==============================] - 0s 3ms/step - loss: 0.0023\n",
            "Epoch 56/100\n",
            "98/98 [==============================] - 0s 3ms/step - loss: 0.0023\n",
            "Epoch 57/100\n",
            "98/98 [==============================] - 0s 3ms/step - loss: 0.0022\n",
            "Epoch 58/100\n",
            "98/98 [==============================] - 0s 3ms/step - loss: 0.0022\n",
            "Epoch 59/100\n",
            "98/98 [==============================] - 0s 3ms/step - loss: 0.0022\n",
            "Epoch 60/100\n",
            "98/98 [==============================] - 0s 3ms/step - loss: 0.0022\n",
            "Epoch 61/100\n",
            "98/98 [==============================] - 0s 3ms/step - loss: 0.0022\n",
            "Epoch 62/100\n",
            "98/98 [==============================] - 0s 3ms/step - loss: 0.0021\n",
            "Epoch 63/100\n",
            "98/98 [==============================] - 0s 3ms/step - loss: 0.0023\n",
            "Epoch 64/100\n",
            "98/98 [==============================] - 0s 3ms/step - loss: 0.0023\n",
            "Epoch 65/100\n",
            "98/98 [==============================] - 0s 3ms/step - loss: 0.0021\n",
            "Epoch 66/100\n",
            "98/98 [==============================] - 0s 3ms/step - loss: 0.0022\n",
            "Epoch 67/100\n",
            "98/98 [==============================] - 0s 3ms/step - loss: 0.0023\n",
            "Epoch 68/100\n",
            "98/98 [==============================] - 0s 3ms/step - loss: 0.0021\n",
            "Epoch 69/100\n",
            "98/98 [==============================] - 0s 3ms/step - loss: 0.0021\n",
            "Epoch 70/100\n",
            "98/98 [==============================] - 0s 3ms/step - loss: 0.0021\n",
            "Epoch 71/100\n",
            "98/98 [==============================] - 0s 3ms/step - loss: 0.0022\n",
            "Epoch 72/100\n",
            "98/98 [==============================] - 0s 3ms/step - loss: 0.0021\n",
            "Epoch 73/100\n",
            "98/98 [==============================] - 0s 3ms/step - loss: 0.0022\n",
            "Epoch 74/100\n",
            "98/98 [==============================] - 0s 3ms/step - loss: 0.0021\n",
            "Epoch 75/100\n",
            "98/98 [==============================] - 0s 3ms/step - loss: 0.0022\n",
            "Epoch 76/100\n",
            "98/98 [==============================] - 0s 3ms/step - loss: 0.0023\n",
            "Epoch 77/100\n",
            "98/98 [==============================] - 0s 3ms/step - loss: 0.0022\n",
            "Epoch 78/100\n",
            "98/98 [==============================] - 0s 3ms/step - loss: 0.0022\n",
            "Epoch 79/100\n",
            "98/98 [==============================] - 0s 3ms/step - loss: 0.0022\n",
            "Epoch 80/100\n",
            "98/98 [==============================] - 0s 3ms/step - loss: 0.0021\n",
            "Epoch 81/100\n",
            "98/98 [==============================] - 0s 3ms/step - loss: 0.0021\n",
            "Epoch 82/100\n",
            "98/98 [==============================] - 0s 3ms/step - loss: 0.0020\n",
            "Epoch 83/100\n",
            "98/98 [==============================] - 0s 3ms/step - loss: 0.0022\n",
            "Epoch 84/100\n",
            "98/98 [==============================] - 0s 3ms/step - loss: 0.0022\n",
            "Epoch 85/100\n",
            "98/98 [==============================] - 0s 3ms/step - loss: 0.0020\n",
            "Epoch 86/100\n",
            "98/98 [==============================] - 0s 3ms/step - loss: 0.0022\n",
            "Epoch 87/100\n",
            "98/98 [==============================] - 0s 3ms/step - loss: 0.0023\n",
            "Epoch 88/100\n",
            "98/98 [==============================] - 0s 3ms/step - loss: 0.0021\n",
            "Epoch 89/100\n",
            "98/98 [==============================] - 0s 3ms/step - loss: 0.0022\n",
            "Epoch 90/100\n",
            "98/98 [==============================] - 0s 3ms/step - loss: 0.0020\n",
            "Epoch 91/100\n",
            "98/98 [==============================] - 0s 3ms/step - loss: 0.0022\n",
            "Epoch 92/100\n",
            "98/98 [==============================] - 0s 3ms/step - loss: 0.0022\n",
            "Epoch 93/100\n",
            "98/98 [==============================] - 0s 3ms/step - loss: 0.0022\n",
            "Epoch 94/100\n",
            "98/98 [==============================] - 0s 3ms/step - loss: 0.0020\n",
            "Epoch 95/100\n",
            "98/98 [==============================] - 0s 3ms/step - loss: 0.0021\n",
            "Epoch 96/100\n",
            "98/98 [==============================] - 0s 3ms/step - loss: 0.0021\n",
            "Epoch 97/100\n",
            "98/98 [==============================] - 0s 3ms/step - loss: 0.0021\n",
            "Epoch 98/100\n",
            "98/98 [==============================] - 0s 3ms/step - loss: 0.0021\n",
            "Epoch 99/100\n",
            "98/98 [==============================] - 0s 3ms/step - loss: 0.0021\n",
            "Epoch 100/100\n",
            "98/98 [==============================] - 0s 3ms/step - loss: 0.0021\n"
          ]
        },
        {
          "output_type": "execute_result",
          "data": {
            "text/plain": [
              "<keras.callbacks.History at 0x7f8e621d6310>"
            ]
          },
          "metadata": {},
          "execution_count": 53
        }
      ]
    },
    {
      "cell_type": "code",
      "source": [
        "y_pred = model.predict(x_test)"
      ],
      "metadata": {
        "colab": {
          "base_uri": "https://localhost:8080/"
        },
        "id": "L2Djh4byiLA3",
        "outputId": "4f5e1bb3-1050-40d9-db0a-0b48bd347a57"
      },
      "execution_count": 54,
      "outputs": [
        {
          "output_type": "stream",
          "name": "stdout",
          "text": [
            "2/2 [==============================] - 1s 5ms/step\n"
          ]
        }
      ]
    },
    {
      "cell_type": "code",
      "source": [
        "y_pred[:5]"
      ],
      "metadata": {
        "colab": {
          "base_uri": "https://localhost:8080/"
        },
        "id": "ViQ6SH1uk3J5",
        "outputId": "1667c5c7-7938-440d-981d-e7db98e3de49"
      },
      "execution_count": 56,
      "outputs": [
        {
          "output_type": "execute_result",
          "data": {
            "text/plain": [
              "array([[0.47682333],\n",
              "       [0.5678834 ],\n",
              "       [0.6156455 ],\n",
              "       [0.6176837 ],\n",
              "       [0.5455043 ]], dtype=float32)"
            ]
          },
          "metadata": {},
          "execution_count": 56
        }
      ]
    },
    {
      "cell_type": "code",
      "source": [
        "ypred = scaler.inverse_transform(y_pred)"
      ],
      "metadata": {
        "id": "xh3IZy0Hk4pm"
      },
      "execution_count": 58,
      "outputs": []
    },
    {
      "cell_type": "code",
      "source": [
        "ypred[:5]"
      ],
      "metadata": {
        "colab": {
          "base_uri": "https://localhost:8080/"
        },
        "id": "TUvDAMNklGXq",
        "outputId": "91330a46-82ed-4528-ce7f-c2fe8c35226a"
      },
      "execution_count": 59,
      "outputs": [
        {
          "output_type": "execute_result",
          "data": {
            "text/plain": [
              "array([[350.9945 ],\n",
              "       [398.1636 ],\n",
              "       [422.9044 ],\n",
              "       [423.96017],\n",
              "       [386.57123]], dtype=float32)"
            ]
          },
          "metadata": {},
          "execution_count": 59
        }
      ]
    },
    {
      "cell_type": "code",
      "source": [
        "y_test[:5] "
      ],
      "metadata": {
        "colab": {
          "base_uri": "https://localhost:8080/"
        },
        "id": "NOVFsDsxlLAM",
        "outputId": "231b3fa7-d118-4f43-8e2d-158d15a070cd"
      },
      "execution_count": 60,
      "outputs": [
        {
          "output_type": "execute_result",
          "data": {
            "text/plain": [
              "array([0.61389961, 0.6969112 , 0.7007722 , 0.57915058, 0.46911197])"
            ]
          },
          "metadata": {},
          "execution_count": 60
        }
      ]
    },
    {
      "cell_type": "code",
      "source": [
        "ytest = scaler.inverse_transform([y_test])"
      ],
      "metadata": {
        "id": "IdO2O7yZlQOk"
      },
      "execution_count": 62,
      "outputs": []
    },
    {
      "cell_type": "code",
      "source": [
        "ytest"
      ],
      "metadata": {
        "colab": {
          "base_uri": "https://localhost:8080/"
        },
        "id": "ewgTnMJnlVN-",
        "outputId": "b08f0383-55dc-41d6-9c0e-a202b8f69257"
      },
      "execution_count": 63,
      "outputs": [
        {
          "output_type": "execute_result",
          "data": {
            "text/plain": [
              "array([[422., 465., 467., 404., 347., 305., 336., 340., 318., 362., 348.,\n",
              "        363., 435., 491., 505., 404., 359., 310., 337., 360., 342., 406.,\n",
              "        396., 420., 472., 548., 559., 463., 407., 362., 405., 417., 391.,\n",
              "        419., 461., 472., 535., 622., 606.]])"
            ]
          },
          "metadata": {},
          "execution_count": 63
        }
      ]
    },
    {
      "cell_type": "code",
      "source": [
        "ypred[:5]"
      ],
      "metadata": {
        "colab": {
          "base_uri": "https://localhost:8080/"
        },
        "id": "Q1TVQjNWlZLa",
        "outputId": "8eafb36e-1116-4a70-c32f-b7a2bff0662e"
      },
      "execution_count": 64,
      "outputs": [
        {
          "output_type": "execute_result",
          "data": {
            "text/plain": [
              "array([[350.9945 ],\n",
              "       [398.1636 ],\n",
              "       [422.9044 ],\n",
              "       [423.96017],\n",
              "       [386.57123]], dtype=float32)"
            ]
          },
          "metadata": {},
          "execution_count": 64
        }
      ]
    },
    {
      "cell_type": "code",
      "source": [
        "import matplotlib.pyplot as plt"
      ],
      "metadata": {
        "id": "TNBbuNHsldZh"
      },
      "execution_count": 65,
      "outputs": []
    },
    {
      "cell_type": "code",
      "source": [
        "plt.plot(ypred, c = 'r')"
      ],
      "metadata": {
        "colab": {
          "base_uri": "https://localhost:8080/",
          "height": 282
        },
        "id": "EY6AzT5slkFB",
        "outputId": "518cd657-15b8-456c-a7e4-e0c0c4149ad0"
      },
      "execution_count": 66,
      "outputs": [
        {
          "output_type": "execute_result",
          "data": {
            "text/plain": [
              "[<matplotlib.lines.Line2D at 0x7f8e60d9d550>]"
            ]
          },
          "metadata": {},
          "execution_count": 66
        },
        {
          "output_type": "display_data",
          "data": {
            "text/plain": [
              "<Figure size 432x288 with 1 Axes>"
            ],
            "image/png": "[encoded data removed]"
          },
          "metadata": {
            "needs_background": "light"
          }
        }
      ]
    },
    {
      "cell_type": "code",
      "source": [
        "ytest.shape"
      ],
      "metadata": {
        "colab": {
          "base_uri": "https://localhost:8080/"
        },
        "id": "dbiSJ3Hulrje",
        "outputId": "b2daef45-1f7a-4c29-ed6c-07bb74a2080e"
      },
      "execution_count": 68,
      "outputs": [
        {
          "output_type": "execute_result",
          "data": {
            "text/plain": [
              "(1, 39)"
            ]
          },
          "metadata": {},
          "execution_count": 68
        }
      ]
    },
    {
      "cell_type": "code",
      "source": [
        "ytest.T.shape"
      ],
      "metadata": {
        "colab": {
          "base_uri": "https://localhost:8080/"
        },
        "id": "DuJTAmDyluVx",
        "outputId": "0652077d-c603-42ba-8b9b-decf11b3768c"
      },
      "execution_count": 69,
      "outputs": [
        {
          "output_type": "execute_result",
          "data": {
            "text/plain": [
              "(39, 1)"
            ]
          },
          "metadata": {},
          "execution_count": 69
        }
      ]
    },
    {
      "cell_type": "code",
      "source": [
        "plt.plot(ytest.T, c = 'b')"
      ],
      "metadata": {
        "colab": {
          "base_uri": "https://localhost:8080/",
          "height": 282
        },
        "id": "jLeOxnL8lnYA",
        "outputId": "28900360-3a4d-4508-f28c-1f47b85b3d56"
      },
      "execution_count": 71,
      "outputs": [
        {
          "output_type": "execute_result",
          "data": {
            "text/plain": [
              "[<matplotlib.lines.Line2D at 0x7f8e60958370>]"
            ]
          },
          "metadata": {},
          "execution_count": 71
        },
        {
          "output_type": "display_data",
          "data": {
            "text/plain": [
              "<Figure size 432x288 with 1 Axes>"
            ],
            "image/png": "[encoded data removed]"
          },
          "metadata": {
            "needs_background": "light"
          }
        }
      ]
    },
    {
      "cell_type": "code",
      "source": [
        "plt.plot(ytest.T, c = 'b')\n",
        "plt.plot(ypred, c = 'r')\n"
      ],
      "metadata": {
        "colab": {
          "base_uri": "https://localhost:8080/",
          "height": 282
        },
        "id": "ueRQfIWOlpvC",
        "outputId": "bd6cd4b5-3c93-41df-cd56-8be9bad553ef"
      },
      "execution_count": 72,
      "outputs": [
        {
          "output_type": "execute_result",
          "data": {
            "text/plain": [
              "[<matplotlib.lines.Line2D at 0x7f8e60b73be0>]"
            ]
          },
          "metadata": {},
          "execution_count": 72
        },
        {
          "output_type": "display_data",
          "data": {
            "text/plain": [
              "<Figure size 432x288 with 1 Axes>"
            ],
            "image/png": "[encoded data removed]"
          },
          "metadata": {
            "needs_background": "light"
          }
        }
      ]
    },
    {
      "cell_type": "code",
      "source": [
        "from sklearn.metrics import mean_absolute_error\n",
        "mean_absolute_error(ytest.T,ypred)"
      ],
      "metadata": {
        "colab": {
          "base_uri": "https://localhost:8080/"
        },
        "id": "1uI4iYWSmCbs",
        "outputId": "c0f889ca-9293-4725-890e-ec963be5f9f0"
      },
      "execution_count": 73,
      "outputs": [
        {
          "output_type": "execute_result",
          "data": {
            "text/plain": [
              "48.44728205754207"
            ]
          },
          "metadata": {},
          "execution_count": 73
        }
      ]
    },
    {
      "cell_type": "code",
      "source": [
        "ypred.shape"
      ],
      "metadata": {
        "colab": {
          "base_uri": "https://localhost:8080/"
        },
        "id": "GKI8Pxqnm2Pq",
        "outputId": "f88f4153-94e7-4632-b555-50b8f62946e3"
      },
      "execution_count": 74,
      "outputs": [
        {
          "output_type": "execute_result",
          "data": {
            "text/plain": [
              "(39, 1)"
            ]
          },
          "metadata": {},
          "execution_count": 74
        }
      ]
    },
    {
      "cell_type": "code",
      "source": [
        "ytest.shape\n"
      ],
      "metadata": {
        "colab": {
          "base_uri": "https://localhost:8080/"
        },
        "id": "eco43T6EnEqx",
        "outputId": "b9ff8e69-e58c-4295-c08c-bc48d39cd5df"
      },
      "execution_count": 75,
      "outputs": [
        {
          "output_type": "execute_result",
          "data": {
            "text/plain": [
              "(1, 39)"
            ]
          },
          "metadata": {},
          "execution_count": 75
        }
      ]
    },
    {
      "cell_type": "code",
      "source": [],
      "metadata": {
        "id": "9GTDz3WmnHjM"
      },
      "execution_count": null,
      "outputs": []
    }
  ]
}